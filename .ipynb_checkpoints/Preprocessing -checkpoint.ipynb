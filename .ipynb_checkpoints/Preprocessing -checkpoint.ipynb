{
 "cells": [
  {
   "cell_type": "code",
   "execution_count": 1,
   "metadata": {
    "ExecuteTime": {
     "end_time": "2021-06-23T14:49:19.488607Z",
     "start_time": "2021-06-23T14:49:16.372229Z"
    }
   },
   "outputs": [],
   "source": [
    "import pandas as pd\n",
    "import pgeocode\n",
    "\n",
    "import matplotlib.pyplot as plt\n",
    "import seaborn as sns\n"
   ]
  },
  {
   "cell_type": "code",
   "execution_count": 2,
   "metadata": {
    "ExecuteTime": {
     "end_time": "2021-06-23T14:49:19.708096Z",
     "start_time": "2021-06-23T14:49:19.488607Z"
    }
   },
   "outputs": [],
   "source": [
    "#Import student data\n",
    "df17 = pd.read_csv('XXFRO Freshman Orientation Advising 17F.csv')\n",
    "df18 = pd.read_csv('XXFRO Freshman Orientation Advising 18F.csv')\n",
    "df19 = pd.read_csv('XXFRO Freshman Orientation Advising 19F.csv')\n",
    "df20 = pd.read_csv('XXFRO Freshman Orientation Advising 20F.csv')\n",
    "              "
   ]
  },
  {
   "cell_type": "code",
   "execution_count": 3,
   "metadata": {
    "ExecuteTime": {
     "end_time": "2021-06-23T14:49:19.816060Z",
     "start_time": "2021-06-23T14:49:19.713095Z"
    }
   },
   "outputs": [],
   "source": [
    "df_all = pd.concat([df17,df18,df19,df20]).drop_duplicates().reset_index(drop=True)"
   ]
  },
  {
   "cell_type": "code",
   "execution_count": 4,
   "metadata": {
    "ExecuteTime": {
     "end_time": "2021-06-23T14:49:19.832060Z",
     "start_time": "2021-06-23T14:49:19.820060Z"
    }
   },
   "outputs": [],
   "source": [
    "# df_all.info()"
   ]
  },
  {
   "cell_type": "code",
   "execution_count": 5,
   "metadata": {
    "ExecuteTime": {
     "end_time": "2021-06-23T14:49:19.925024Z",
     "start_time": "2021-06-23T14:49:19.836053Z"
    }
   },
   "outputs": [],
   "source": [
    "# df_all.head()"
   ]
  },
  {
   "cell_type": "markdown",
   "metadata": {},
   "source": [
    "## General Cleaning"
   ]
  },
  {
   "cell_type": "code",
   "execution_count": 6,
   "metadata": {
    "ExecuteTime": {
     "end_time": "2021-06-23T14:49:19.987004Z",
     "start_time": "2021-06-23T14:49:19.929023Z"
    }
   },
   "outputs": [],
   "source": [
    "# remove white space in column names \n",
    "df_all.columns = df_all.columns.str.replace(' ', '') "
   ]
  },
  {
   "cell_type": "code",
   "execution_count": 7,
   "metadata": {
    "ExecuteTime": {
     "end_time": "2021-06-23T14:49:20.001999Z",
     "start_time": "2021-06-23T14:49:19.992002Z"
    }
   },
   "outputs": [],
   "source": [
    "# df_all.columns"
   ]
  },
  {
   "cell_type": "markdown",
   "metadata": {},
   "source": [
    "We will build a student profile based on cerain aspects like Standardized score(SAT), HS GPA, zipcode, gender, sports"
   ]
  },
  {
   "cell_type": "code",
   "execution_count": 8,
   "metadata": {
    "ExecuteTime": {
     "end_time": "2021-06-23T14:49:20.035987Z",
     "start_time": "2021-06-23T14:49:20.007997Z"
    }
   },
   "outputs": [],
   "source": [
    "#Remove columns that are not required for our analysis \n",
    "final_table_columns = ['Applicant','Gender','MajorDesc.','XNnResFlagDesc','XApplTotSat','ACTCSCORE',\n",
    "                       'HS}GPA','AddrLine1','City','State','Zip']\n",
    "df_all = df_all.drop(columns=[col for col in df_all if col not in final_table_columns])\n"
   ]
  },
  {
   "cell_type": "code",
   "execution_count": 9,
   "metadata": {
    "ExecuteTime": {
     "end_time": "2021-06-23T14:49:20.064978Z",
     "start_time": "2021-06-23T14:49:20.051983Z"
    }
   },
   "outputs": [],
   "source": [
    "#rename columns\n",
    "df_all = df_all.rename(columns={'MajorDesc.':'Major',\n",
    "                                'XNnResFlagDesc':'Housing',\n",
    "                                'XApplTotSat':'SAT',\n",
    "                                'ACTCSCORE':'ACT',\n",
    "                                'HS}GPA':'HSGPA'})"
   ]
  },
  {
   "cell_type": "code",
   "execution_count": 10,
   "metadata": {
    "ExecuteTime": {
     "end_time": "2021-06-23T14:49:20.394242Z",
     "start_time": "2021-06-23T14:49:20.067978Z"
    }
   },
   "outputs": [],
   "source": [
    "# df_all.head()"
   ]
  },
  {
   "cell_type": "code",
   "execution_count": 11,
   "metadata": {
    "ExecuteTime": {
     "end_time": "2021-06-23T14:49:20.583180Z",
     "start_time": "2021-06-23T14:49:20.401240Z"
    }
   },
   "outputs": [
    {
     "data": {
      "text/plain": [
       "Applicant       0\n",
       "Gender          0\n",
       "Major           0\n",
       "Housing         0\n",
       "SAT             0\n",
       "ACT          2299\n",
       "HSGPA           1\n",
       "AddrLine1       0\n",
       "City            0\n",
       "State           2\n",
       "Zip             1\n",
       "dtype: int64"
      ]
     },
     "execution_count": 11,
     "metadata": {},
     "output_type": "execute_result"
    }
   ],
   "source": [
    "df_all.isna().sum()"
   ]
  },
  {
   "cell_type": "markdown",
   "metadata": {},
   "source": [
    "## Academic Program / Major"
   ]
  },
  {
   "cell_type": "markdown",
   "metadata": {},
   "source": [
    "In the Academic program ,The first 4 letters represents the Major , the next set of 4 letters either represents a specialization or a particular program . Most students start out with a general major and select a specialization after the freshmen year. So we will use general major for our anaysys ."
   ]
  },
  {
   "cell_type": "code",
   "execution_count": 12,
   "metadata": {
    "ExecuteTime": {
     "end_time": "2021-06-23T14:49:20.599174Z",
     "start_time": "2021-06-23T14:49:20.586179Z"
    }
   },
   "outputs": [],
   "source": [
    "# Force string data type for Academic PRogram\n",
    "# df1['AcademicProgram'] = df1['AcademicProgram'].astype(str)"
   ]
  },
  {
   "cell_type": "code",
   "execution_count": 13,
   "metadata": {
    "ExecuteTime": {
     "end_time": "2021-06-23T14:49:20.614170Z",
     "start_time": "2021-06-23T14:49:20.602174Z"
    }
   },
   "outputs": [],
   "source": [
    "# # USe only the first 4 letters of Academic Program\n",
    "# for i in range(0,len(df1['AcademicProgram'])):\n",
    "# #     df1['AcademicProgram'][i] = df1['AcademicProgram'][i][0:4]"
   ]
  },
  {
   "cell_type": "code",
   "execution_count": 14,
   "metadata": {
    "ExecuteTime": {
     "end_time": "2021-06-23T14:49:20.630164Z",
     "start_time": "2021-06-23T14:49:20.617169Z"
    }
   },
   "outputs": [
    {
     "data": {
      "text/plain": [
       "array(['Business Administration', 'Biochemistry',\n",
       "       'Undeclared Liberal Arts', 'Political Science',\n",
       "       'Nursing (Reg Nurse)', 'Computer Science', 'Accounting',\n",
       "       'Psychology', 'Creative Writing', 'Criminology', 'Chemistry',\n",
       "       'Entrepreneurship', 'Undeclared Business', 'History',\n",
       "       'Health Studies', 'Biology', 'Mathematics', 'Marketing',\n",
       "       'Graphic Design', 'Literature', 'Hotel Restaurant & Tourism Mgt',\n",
       "       'Film and Animation, Film and Animation', 'Sport Management',\n",
       "       'Psychology, Criminology', 'Theater Arts', 'Finance', 'Humanities',\n",
       "       'Film and Animation', 'Communication Studies, Graphic Design',\n",
       "       'Communication Studies', 'Sociology',\n",
       "       'Clinical Laboratory Sciences', 'Fine Arts, Graphic Design',\n",
       "       'Medical Imaging Sciences', 'Graphic Design, Graphic Design',\n",
       "       'Political Science, Communication Studies', 'Allied Health Tech',\n",
       "       'Theater Arts, Film and Animation', 'Creative Writing, History',\n",
       "       'Political Science, History', 'Film and Animation, Criminology',\n",
       "       'Fine Arts', 'Film and Animation, Communication Studies',\n",
       "       'Criminology, Government and Law', 'Business Management',\n",
       "       'Communication Studies, Creative Writing',\n",
       "       'Criminology, Psychology',\n",
       "       'Communication Studies, Film and Animation',\n",
       "       'Creative Writing, Communication Studies',\n",
       "       'Theater Arts, Mathematics', 'Criminology, Sociology',\n",
       "       'Theater Arts, Theater Arts', 'Mathematics, Computer Science',\n",
       "       'Theater Arts, Communication Studies',\n",
       "       'Computer Science, Computer Science', 'Government and Law',\n",
       "       'Government and Law, History', 'Communication Studies, Sociology',\n",
       "       'Creative Writing, Psychology', 'Graphic Design, Fine Arts',\n",
       "       'Interdisciplinary Studies', 'Business Administration, Finance',\n",
       "       'Theater Arts, Government and Politics',\n",
       "       'Creative Writing, Criminology',\n",
       "       'Creative Writing, Film and Animation', 'Psychology, Biology',\n",
       "       'Marketing, Marketing', 'Communication Studies, Literature',\n",
       "       'History, Government and Law', 'Accounting, Finance',\n",
       "       'Theater Arts, Psychology', 'Liberal Arts',\n",
       "       'Exploring Soc & Behavioral Sci', 'Exploring Arts',\n",
       "       'Finance, Accounting', 'Biology, Psychology',\n",
       "       'Exploring Education', 'Psychology, Sociology',\n",
       "       'Computer Science, Film and Animation', 'Exploring STEM',\n",
       "       'Film and Animation, Creative Writing',\n",
       "       'Theater Arts, Criminology', 'Government and Law, Criminology',\n",
       "       'Exploring Humanities', 'Communication',\n",
       "       'Theater Arts, Communication', 'Marketing, Business Management',\n",
       "       'Business Administration, Accounting', 'Government and Politics',\n",
       "       'Exploring Communication', 'Luxury Hospitality Management'],\n",
       "      dtype=object)"
      ]
     },
     "execution_count": 14,
     "metadata": {},
     "output_type": "execute_result"
    }
   ],
   "source": [
    "df_all['Major'].unique()"
   ]
  },
  {
   "cell_type": "code",
   "execution_count": 15,
   "metadata": {
    "ExecuteTime": {
     "end_time": "2021-06-23T14:49:20.646160Z",
     "start_time": "2021-06-23T14:49:20.633163Z"
    }
   },
   "outputs": [],
   "source": [
    "# df_all.loc[df_all['Major']=='Fine Arts, Graphic Design']"
   ]
  },
  {
   "cell_type": "markdown",
   "metadata": {},
   "source": [
    "Seems some majors also have minors ,For our analysis we will focus on extracting only the info about majors"
   ]
  },
  {
   "cell_type": "code",
   "execution_count": 16,
   "metadata": {
    "ExecuteTime": {
     "end_time": "2021-06-23T14:49:20.710378Z",
     "start_time": "2021-06-23T14:49:20.649158Z"
    }
   },
   "outputs": [],
   "source": [
    "#Split major description into major,minor and keep only major\n",
    "df_all['Major'] = df_all['Major'].map(lambda x : x.split(',')[0])"
   ]
  },
  {
   "cell_type": "code",
   "execution_count": 17,
   "metadata": {
    "ExecuteTime": {
     "end_time": "2021-06-23T14:49:20.907314Z",
     "start_time": "2021-06-23T14:49:20.713378Z"
    }
   },
   "outputs": [
    {
     "data": {
      "text/plain": [
       "array(['Business Administration', 'Biochemistry',\n",
       "       'Undeclared Liberal Arts', 'Political Science',\n",
       "       'Nursing (Reg Nurse)', 'Computer Science', 'Accounting',\n",
       "       'Psychology', 'Creative Writing', 'Criminology', 'Chemistry',\n",
       "       'Entrepreneurship', 'Undeclared Business', 'History',\n",
       "       'Health Studies', 'Biology', 'Mathematics', 'Marketing',\n",
       "       'Graphic Design', 'Literature', 'Hotel Restaurant & Tourism Mgt',\n",
       "       'Film and Animation', 'Sport Management', 'Theater Arts',\n",
       "       'Finance', 'Humanities', 'Communication Studies', 'Sociology',\n",
       "       'Clinical Laboratory Sciences', 'Fine Arts',\n",
       "       'Medical Imaging Sciences', 'Allied Health Tech',\n",
       "       'Business Management', 'Government and Law',\n",
       "       'Interdisciplinary Studies', 'Liberal Arts',\n",
       "       'Exploring Soc & Behavioral Sci', 'Exploring Arts',\n",
       "       'Exploring Education', 'Exploring STEM', 'Exploring Humanities',\n",
       "       'Communication', 'Government and Politics',\n",
       "       'Exploring Communication', 'Luxury Hospitality Management'],\n",
       "      dtype=object)"
      ]
     },
     "execution_count": 17,
     "metadata": {},
     "output_type": "execute_result"
    }
   ],
   "source": [
    "df_all['Major'].unique()"
   ]
  },
  {
   "cell_type": "code",
   "execution_count": 18,
   "metadata": {
    "ExecuteTime": {
     "end_time": "2021-06-23T14:49:20.968294Z",
     "start_time": "2021-06-23T14:49:20.910313Z"
    }
   },
   "outputs": [
    {
     "data": {
      "text/plain": [
       "Undeclared Liberal Arts           289\n",
       "Biology                           240\n",
       "Business Administration           179\n",
       "Nursing (Reg Nurse)               177\n",
       "Film and Animation                168\n",
       "Psychology                        157\n",
       "Computer Science                  141\n",
       "Criminology                       129\n",
       "Health Studies                    110\n",
       "Sport Management                  101\n",
       "Theater Arts                       96\n",
       "Accounting                         96\n",
       "Undeclared Business                63\n",
       "Marketing                          62\n",
       "Biochemistry                       59\n",
       "Finance                            56\n",
       "Creative Writing                   55\n",
       "Liberal Arts                       51\n",
       "Mathematics                        51\n",
       "Hotel Restaurant & Tourism Mgt     48\n",
       "History                            44\n",
       "Chemistry                          42\n",
       "Graphic Design                     39\n",
       "Communication Studies              37\n",
       "Literature                         29\n",
       "Exploring Education                17\n",
       "Government and Law                 15\n",
       "Entrepreneurship                   14\n",
       "Exploring Soc & Behavioral Sci     14\n",
       "Humanities                         13\n",
       "Fine Arts                          12\n",
       "Exploring Arts                     12\n",
       "Medical Imaging Sciences           12\n",
       "Business Management                12\n",
       "Allied Health Tech                 12\n",
       "Clinical Laboratory Sciences        9\n",
       "Political Science                   7\n",
       "Communication                       6\n",
       "Sociology                           5\n",
       "Exploring STEM                      5\n",
       "Government and Politics             4\n",
       "Luxury Hospitality Management       3\n",
       "Interdisciplinary Studies           2\n",
       "Exploring Communication             2\n",
       "Exploring Humanities                1\n",
       "Name: Major, dtype: int64"
      ]
     },
     "execution_count": 18,
     "metadata": {},
     "output_type": "execute_result"
    }
   ],
   "source": [
    "df_all['Major'].value_counts()"
   ]
  },
  {
   "cell_type": "markdown",
   "metadata": {},
   "source": [
    "We will further group the majors into 3 categories as follows : STEM, Commmerce and Humanites/arts"
   ]
  },
  {
   "cell_type": "code",
   "execution_count": 19,
   "metadata": {
    "ExecuteTime": {
     "end_time": "2021-06-23T14:49:21.220210Z",
     "start_time": "2021-06-23T14:49:20.973292Z"
    }
   },
   "outputs": [],
   "source": [
    "#Convert majors into groups \n",
    "major_category = dict.fromkeys(df_all['Major'].unique(), \"\")"
   ]
  },
  {
   "cell_type": "code",
   "execution_count": 20,
   "metadata": {
    "ExecuteTime": {
     "end_time": "2021-06-23T14:49:21.267194Z",
     "start_time": "2021-06-23T14:49:21.225209Z"
    }
   },
   "outputs": [],
   "source": [
    "# major_category"
   ]
  },
  {
   "cell_type": "code",
   "execution_count": 21,
   "metadata": {
    "ExecuteTime": {
     "end_time": "2021-06-23T14:49:21.377159Z",
     "start_time": "2021-06-23T14:49:21.270194Z"
    },
    "code_folding": []
   },
   "outputs": [],
   "source": [
    "major_category = {   'Business Administration': 'COMMERCE',\n",
    "                     'Biochemistry': 'STEM',\n",
    "                     'Undeclared Liberal Arts': 'HUMANITIES/ARTS',\n",
    "                     'Political Science': 'STEM',\n",
    "                     'Nursing (Reg Nurse)': 'STEM',\n",
    "                     'Computer Science': 'STEM',\n",
    "                     'Accounting': 'COMMERCE',\n",
    "                     'Psychology': 'STEM',\n",
    "                     'Creative Writing': 'HUMANITIES/ARTS',\n",
    "                     'Criminology': 'STEM',\n",
    "                     'Chemistry': 'STEM',\n",
    "                     'Entrepreneurship': 'COMMERCE',\n",
    "                     'Undeclared Business': 'COMMERCE',\n",
    "                     'History': 'HUMANITIES/ARTS',\n",
    "                     'Health Studies': 'STEM',\n",
    "                     'Biology': 'STEM',\n",
    "                     'Mathematics': 'STEM',\n",
    "                     'Marketing': 'COMMERCE',\n",
    "                     'Graphic Design': 'STEM',\n",
    "                     'Literature': 'HUMANITIES/ARTS',\n",
    "                     'Hotel Restaurant & Tourism Mgt': 'COMMERCE',\n",
    "                     'Film and Animation': 'STEM',\n",
    "                     'Sport Management': 'COMMERCE',\n",
    "                     'Theater Arts': 'HUMANITIES/ARTS',\n",
    "                     'Finance': 'COMMERCE',\n",
    "                     'Humanities': 'HUMANITIES/ARTS',\n",
    "                     'Communication Studies': 'HUMANITIES/ARTS',\n",
    "                     'Sociology': 'STEM',\n",
    "                     'Clinical Laboratory Sciences': 'STEM',\n",
    "                     'Fine Arts': 'HUMANITIES/ARTS',\n",
    "                     'Medical Imaging Sciences': 'STEM',\n",
    "                     'Allied Health Tech': 'STEM',\n",
    "                     'Business Management': 'COMMERCE',\n",
    "                     'Government and Law': 'HUMANITIES/ARTS',\n",
    "                     'Interdisciplinary Studies': 'HUMANITIES/ARTS',\n",
    "                     'Liberal Arts': 'HUMANITIES/ARTS',\n",
    "                     'Exploring Soc & Behavioral Sci': 'STEM',\n",
    "                     'Exploring Arts': 'HUMANITIES/ARTS',\n",
    "                     'Exploring Education': 'HUMANITIES/ARTS',\n",
    "                     'Exploring STEM': 'STEM',\n",
    "                     'Exploring Humanities': 'HUMANITIES/ARTS',\n",
    "                     'Communication': 'HUMANITIES/ARTS',\n",
    "                     'Government and Politics': 'HUMANITIES/ARTS',\n",
    "                     'Exploring Communication': 'HUMANITIES/ARTS',\n",
    "                     'Luxury Hospitality Management': 'COMMERCE'}"
   ]
  },
  {
   "cell_type": "code",
   "execution_count": 22,
   "metadata": {
    "ExecuteTime": {
     "end_time": "2021-06-23T14:49:21.425145Z",
     "start_time": "2021-06-23T14:49:21.379158Z"
    }
   },
   "outputs": [],
   "source": [
    "df_all['Major'] = df_all['Major'].map(major_category)"
   ]
  },
  {
   "cell_type": "code",
   "execution_count": 23,
   "metadata": {
    "ExecuteTime": {
     "end_time": "2021-06-23T14:49:21.457132Z",
     "start_time": "2021-06-23T14:49:21.432141Z"
    }
   },
   "outputs": [
    {
     "data": {
      "text/plain": [
       "STEM               1377\n",
       "HUMANITIES/ARTS     685\n",
       "COMMERCE            634\n",
       "Name: Major, dtype: int64"
      ]
     },
     "execution_count": 23,
     "metadata": {},
     "output_type": "execute_result"
    }
   ],
   "source": [
    "df_all['Major'].value_counts()"
   ]
  },
  {
   "cell_type": "code",
   "execution_count": 24,
   "metadata": {
    "ExecuteTime": {
     "end_time": "2021-06-23T14:49:21.833009Z",
     "start_time": "2021-06-23T14:49:21.462131Z"
    }
   },
   "outputs": [
    {
     "data": {
      "text/plain": [
       "<AxesSubplot:ylabel='Major'>"
      ]
     },
     "execution_count": 24,
     "metadata": {},
     "output_type": "execute_result"
    },
    {
     "data": {
      "image/png": "[encoded data removed]",
      "text/plain": [
       "<Figure size 432x288 with 1 Axes>"
      ]
     },
     "metadata": {},
     "output_type": "display_data"
    }
   ],
   "source": [
    "pd.value_counts(df_all['Major']).plot(kind=\"pie\")"
   ]
  },
  {
   "cell_type": "code",
   "execution_count": 25,
   "metadata": {
    "ExecuteTime": {
     "end_time": "2021-06-23T14:49:21.848004Z",
     "start_time": "2021-06-23T14:49:21.836008Z"
    }
   },
   "outputs": [
    {
     "data": {
      "text/plain": [
       "Resident    2051\n",
       "Commuter     645\n",
       "Name: Housing, dtype: int64"
      ]
     },
     "execution_count": 25,
     "metadata": {},
     "output_type": "execute_result"
    }
   ],
   "source": [
    "df_all['Housing'].value_counts()"
   ]
  },
  {
   "cell_type": "markdown",
   "metadata": {},
   "source": [
    "## SAT score"
   ]
  },
  {
   "cell_type": "code",
   "execution_count": 26,
   "metadata": {
    "ExecuteTime": {
     "end_time": "2021-06-23T14:49:21.863998Z",
     "start_time": "2021-06-23T14:49:21.850003Z"
    }
   },
   "outputs": [
    {
     "data": {
      "text/plain": [
       "Applicant    328\n",
       "Gender       328\n",
       "Major        328\n",
       "Housing      328\n",
       "SAT          328\n",
       "ACT          328\n",
       "HSGPA        328\n",
       "AddrLine1    328\n",
       "City         328\n",
       "State        328\n",
       "Zip          328\n",
       "dtype: int64"
      ]
     },
     "execution_count": 26,
     "metadata": {},
     "output_type": "execute_result"
    }
   ],
   "source": [
    "# Check how many students dont have SAT scores  but have ACT scores\n",
    "\n",
    "df_all[(df_all['SAT']==0)&(df_all['ACT']>0)].count()"
   ]
  },
  {
   "cell_type": "markdown",
   "metadata": {
    "ExecuteTime": {
     "end_time": "2021-03-04T13:55:20.332700Z",
     "start_time": "2021-03-04T13:55:20.274723Z"
    }
   },
   "source": [
    "Seems there are a about 300 students with no SAT scores but have ACT scores. Since bulk of our students have SAT we will use concordance tables to convert ACT scores into equivalent SAT scores."
   ]
  },
  {
   "cell_type": "code",
   "execution_count": 27,
   "metadata": {
    "ExecuteTime": {
     "end_time": "2021-06-23T14:49:21.895988Z",
     "start_time": "2021-06-23T14:49:21.865998Z"
    }
   },
   "outputs": [],
   "source": [
    "df_concordance = pd.read_csv('Concordance_table.csv')"
   ]
  },
  {
   "cell_type": "code",
   "execution_count": 28,
   "metadata": {
    "ExecuteTime": {
     "end_time": "2021-06-23T14:49:21.941973Z",
     "start_time": "2021-06-23T14:49:21.913982Z"
    }
   },
   "outputs": [
    {
     "name": "stdout",
     "output_type": "stream",
     "text": [
      "<class 'pandas.core.frame.DataFrame'>\n",
      "RangeIndex: 28 entries, 0 to 27\n",
      "Data columns (total 2 columns):\n",
      " #   Column  Non-Null Count  Dtype\n",
      "---  ------  --------------  -----\n",
      " 0   ACT     28 non-null     int64\n",
      " 1   SAT     28 non-null     int64\n",
      "dtypes: int64(2)\n",
      "memory usage: 576.0 bytes\n"
     ]
    }
   ],
   "source": [
    "df_concordance.info()"
   ]
  },
  {
   "cell_type": "code",
   "execution_count": 29,
   "metadata": {
    "ExecuteTime": {
     "end_time": "2021-06-23T14:49:21.956968Z",
     "start_time": "2021-06-23T14:49:21.943972Z"
    }
   },
   "outputs": [],
   "source": [
    "# Remove whitespace from column names \n",
    "df_concordance.columns = df_concordance.columns.str.replace(' ', '') "
   ]
  },
  {
   "cell_type": "code",
   "execution_count": 30,
   "metadata": {
    "ExecuteTime": {
     "end_time": "2021-06-23T14:49:21.972963Z",
     "start_time": "2021-06-23T14:49:21.959967Z"
    }
   },
   "outputs": [],
   "source": [
    "# Convert the Concordance table into dictionary  \n",
    "Concordance_table=dict(zip(df_concordance.ACT, df_concordance.SAT))"
   ]
  },
  {
   "cell_type": "code",
   "execution_count": 31,
   "metadata": {
    "ExecuteTime": {
     "end_time": "2021-06-23T14:49:22.003953Z",
     "start_time": "2021-06-23T14:49:21.975962Z"
    }
   },
   "outputs": [
    {
     "data": {
      "text/plain": [
       "dict_values([1590, 1540, 1500, 1460, 1430, 1400, 1370, 1340, 1310, 1280, 1240, 1210, 1180, 1140, 1110, 1080, 1040, 1010, 970, 930, 890, 850, 800, 760, 710, 670, 630, 590])"
      ]
     },
     "execution_count": 31,
     "metadata": {},
     "output_type": "execute_result"
    }
   ],
   "source": [
    "Concordance_table.values()"
   ]
  },
  {
   "cell_type": "code",
   "execution_count": 32,
   "metadata": {
    "ExecuteTime": {
     "end_time": "2021-06-23T14:49:22.019947Z",
     "start_time": "2021-06-23T14:49:22.005952Z"
    }
   },
   "outputs": [],
   "source": [
    "# Find equivalent SAT score based on Reported ACt score \n",
    "df_all['SAT_concordance'] = df_all['ACT']\n",
    "df_all['SAT_concordance']=df_all['SAT_concordance'].map(Concordance_table)"
   ]
  },
  {
   "cell_type": "code",
   "execution_count": 33,
   "metadata": {
    "ExecuteTime": {
     "end_time": "2021-06-23T14:49:22.035942Z",
     "start_time": "2021-06-23T14:49:22.029944Z"
    }
   },
   "outputs": [],
   "source": [
    "# Concordance_table"
   ]
  },
  {
   "cell_type": "code",
   "execution_count": 34,
   "metadata": {
    "ExecuteTime": {
     "end_time": "2021-06-23T14:49:22.051937Z",
     "start_time": "2021-06-23T14:49:22.037941Z"
    }
   },
   "outputs": [
    {
     "data": {
      "text/plain": [
       "397"
      ]
     },
     "execution_count": 34,
     "metadata": {},
     "output_type": "execute_result"
    }
   ],
   "source": [
    "df_all['SAT_concordance'].value_counts().sum()"
   ]
  },
  {
   "cell_type": "code",
   "execution_count": 35,
   "metadata": {
    "ExecuteTime": {
     "end_time": "2021-06-23T14:49:22.083926Z",
     "start_time": "2021-06-23T14:49:22.053936Z"
    }
   },
   "outputs": [],
   "source": [
    "#Find max score between ACtual SAT and Concordance SAT\n",
    "df_all[\"SAT\"] = df_all[[\"SAT_concordance\", \"SAT\"]].max(axis=1)"
   ]
  },
  {
   "cell_type": "code",
   "execution_count": 36,
   "metadata": {
    "ExecuteTime": {
     "end_time": "2021-06-23T14:49:22.115915Z",
     "start_time": "2021-06-23T14:49:22.086926Z"
    }
   },
   "outputs": [
    {
     "name": "stdout",
     "output_type": "stream",
     "text": [
      "<class 'pandas.core.frame.DataFrame'>\n",
      "RangeIndex: 2696 entries, 0 to 2695\n",
      "Data columns (total 12 columns):\n",
      " #   Column           Non-Null Count  Dtype  \n",
      "---  ------           --------------  -----  \n",
      " 0   Applicant        2696 non-null   int64  \n",
      " 1   Gender           2696 non-null   object \n",
      " 2   Major            2696 non-null   object \n",
      " 3   Housing          2696 non-null   object \n",
      " 4   SAT              2696 non-null   float64\n",
      " 5   ACT              397 non-null    float64\n",
      " 6   HSGPA            2695 non-null   object \n",
      " 7   AddrLine1        2696 non-null   object \n",
      " 8   City             2696 non-null   object \n",
      " 9   State            2694 non-null   object \n",
      " 10  Zip              2695 non-null   object \n",
      " 11  SAT_concordance  397 non-null    float64\n",
      "dtypes: float64(3), int64(1), object(8)\n",
      "memory usage: 252.9+ KB\n"
     ]
    }
   ],
   "source": [
    "df_all.info()"
   ]
  },
  {
   "cell_type": "code",
   "execution_count": 37,
   "metadata": {
    "ExecuteTime": {
     "end_time": "2021-06-23T14:49:22.130910Z",
     "start_time": "2021-06-23T14:49:22.117915Z"
    }
   },
   "outputs": [
    {
     "data": {
      "text/plain": [
       "0"
      ]
     },
     "execution_count": 37,
     "metadata": {},
     "output_type": "execute_result"
    }
   ],
   "source": [
    "# Check to see if SAT scores were updated \n",
    "df_all[(df_all['SAT']==0)&(df_all['ACT']>0)]['SAT'].count()"
   ]
  },
  {
   "cell_type": "code",
   "execution_count": 38,
   "metadata": {
    "ExecuteTime": {
     "end_time": "2021-06-23T14:49:22.147905Z",
     "start_time": "2021-06-23T14:49:22.132910Z"
    }
   },
   "outputs": [
    {
     "data": {
      "text/plain": [
       "Applicant          191\n",
       "Gender             191\n",
       "Major              191\n",
       "Housing            191\n",
       "SAT                191\n",
       "ACT                  0\n",
       "HSGPA              190\n",
       "AddrLine1          191\n",
       "City               191\n",
       "State              191\n",
       "Zip                191\n",
       "SAT_concordance      0\n",
       "dtype: int64"
      ]
     },
     "execution_count": 38,
     "metadata": {},
     "output_type": "execute_result"
    }
   ],
   "source": [
    "# Check how many students with no SAT scores.\n",
    "df_all[df_all['SAT']==0].count()"
   ]
  },
  {
   "cell_type": "markdown",
   "metadata": {},
   "source": [
    "There are about 200 students with no scores . Although these students are admitted, their course placement is individualized based on Hs courses, placement tests etc . For our analysis we cant included these students as we dont have any relevant data ."
   ]
  },
  {
   "cell_type": "code",
   "execution_count": 39,
   "metadata": {
    "ExecuteTime": {
     "end_time": "2021-06-23T14:49:22.178895Z",
     "start_time": "2021-06-23T14:49:22.153903Z"
    }
   },
   "outputs": [],
   "source": [
    "#Drop any students with no scores\n",
    "df_all = df_all[df_all['SAT']>0]\n",
    "# keep only the updated SAT column\n",
    "df_all.drop(columns=['ACT','SAT_concordance'],inplace=True)"
   ]
  },
  {
   "cell_type": "code",
   "execution_count": 40,
   "metadata": {
    "ExecuteTime": {
     "end_time": "2021-06-23T14:49:22.209884Z",
     "start_time": "2021-06-23T14:49:22.180894Z"
    }
   },
   "outputs": [
    {
     "name": "stdout",
     "output_type": "stream",
     "text": [
      "<class 'pandas.core.frame.DataFrame'>\n",
      "Int64Index: 2505 entries, 0 to 2695\n",
      "Data columns (total 10 columns):\n",
      " #   Column     Non-Null Count  Dtype  \n",
      "---  ------     --------------  -----  \n",
      " 0   Applicant  2505 non-null   int64  \n",
      " 1   Gender     2505 non-null   object \n",
      " 2   Major      2505 non-null   object \n",
      " 3   Housing    2505 non-null   object \n",
      " 4   SAT        2505 non-null   float64\n",
      " 5   HSGPA      2505 non-null   object \n",
      " 6   AddrLine1  2505 non-null   object \n",
      " 7   City       2505 non-null   object \n",
      " 8   State      2503 non-null   object \n",
      " 9   Zip        2504 non-null   object \n",
      "dtypes: float64(1), int64(1), object(8)\n",
      "memory usage: 215.3+ KB\n"
     ]
    }
   ],
   "source": [
    "df_all.info()"
   ]
  },
  {
   "cell_type": "markdown",
   "metadata": {
    "ExecuteTime": {
     "end_time": "2021-03-04T14:44:39.980238Z",
     "start_time": "2021-03-04T14:44:39.966243Z"
    }
   },
   "source": [
    "Seems a couple students are msising any info and some have no reported scores , we will drop these data points as they wont help us in any way. "
   ]
  },
  {
   "cell_type": "code",
   "execution_count": 41,
   "metadata": {
    "ExecuteTime": {
     "end_time": "2021-06-23T14:49:22.225879Z",
     "start_time": "2021-06-23T14:49:22.212884Z"
    }
   },
   "outputs": [],
   "source": [
    "#drop records with null values \n",
    "df_all = df_all.dropna(how='any',axis=0) "
   ]
  },
  {
   "cell_type": "code",
   "execution_count": 42,
   "metadata": {
    "ExecuteTime": {
     "end_time": "2021-06-23T14:49:22.240874Z",
     "start_time": "2021-06-23T14:49:22.227878Z"
    }
   },
   "outputs": [],
   "source": [
    "# df1['SAT'] = df1['SAT'].dropna()"
   ]
  },
  {
   "cell_type": "code",
   "execution_count": 43,
   "metadata": {
    "ExecuteTime": {
     "end_time": "2021-06-23T14:49:22.272863Z",
     "start_time": "2021-06-23T14:49:22.243874Z"
    }
   },
   "outputs": [
    {
     "name": "stdout",
     "output_type": "stream",
     "text": [
      "<class 'pandas.core.frame.DataFrame'>\n",
      "Int64Index: 2503 entries, 0 to 2695\n",
      "Data columns (total 10 columns):\n",
      " #   Column     Non-Null Count  Dtype  \n",
      "---  ------     --------------  -----  \n",
      " 0   Applicant  2503 non-null   int64  \n",
      " 1   Gender     2503 non-null   object \n",
      " 2   Major      2503 non-null   object \n",
      " 3   Housing    2503 non-null   object \n",
      " 4   SAT        2503 non-null   float64\n",
      " 5   HSGPA      2503 non-null   object \n",
      " 6   AddrLine1  2503 non-null   object \n",
      " 7   City       2503 non-null   object \n",
      " 8   State      2503 non-null   object \n",
      " 9   Zip        2503 non-null   object \n",
      "dtypes: float64(1), int64(1), object(8)\n",
      "memory usage: 215.1+ KB\n"
     ]
    }
   ],
   "source": [
    "df_all.info()"
   ]
  },
  {
   "cell_type": "code",
   "execution_count": 44,
   "metadata": {
    "ExecuteTime": {
     "end_time": "2021-06-23T14:49:22.288858Z",
     "start_time": "2021-06-23T14:49:22.274863Z"
    }
   },
   "outputs": [],
   "source": [
    "df_all['SAT'] = df_all['SAT'].astype(int)\n",
    "df_all['Applicant'] = df_all['Applicant'].astype(int)\n"
   ]
  },
  {
   "cell_type": "markdown",
   "metadata": {
    "ExecuteTime": {
     "end_time": "2021-06-18T20:19:24.369283Z",
     "start_time": "2021-06-18T20:19:24.361281Z"
    }
   },
   "source": [
    "## Address, Distance "
   ]
  },
  {
   "cell_type": "code",
   "execution_count": 45,
   "metadata": {
    "ExecuteTime": {
     "end_time": "2021-06-23T14:49:22.304853Z",
     "start_time": "2021-06-23T14:49:22.290857Z"
    }
   },
   "outputs": [],
   "source": [
    "df_all['Zip'] = df_all['Zip'].map(lambda x : x.split('-')[0])"
   ]
  },
  {
   "cell_type": "code",
   "execution_count": 46,
   "metadata": {
    "ExecuteTime": {
     "end_time": "2021-06-23T14:49:22.320848Z",
     "start_time": "2021-06-23T14:49:22.307852Z"
    }
   },
   "outputs": [],
   "source": [
    "df_all['Zip'] = df_all['Zip'].astype(int)"
   ]
  },
  {
   "cell_type": "code",
   "execution_count": 47,
   "metadata": {
    "ExecuteTime": {
     "end_time": "2021-06-23T14:49:22.336842Z",
     "start_time": "2021-06-23T14:49:22.322847Z"
    }
   },
   "outputs": [],
   "source": [
    "#add leading zeroes to convert zip in 5 numbers\n",
    "df_all['Zip'] = df_all['Zip'].astype(str).str.zfill(5)"
   ]
  },
  {
   "cell_type": "code",
   "execution_count": 48,
   "metadata": {
    "ExecuteTime": {
     "end_time": "2021-06-23T14:49:22.808688Z",
     "start_time": "2021-06-23T14:49:22.338842Z"
    }
   },
   "outputs": [],
   "source": [
    "dist = pgeocode.GeoDistance('US')# US zip code library\n",
    "df_all['Univ_zip']='07940'#University zipcode\n",
    "df_all['Univ_zip'] = df_all['Univ_zip'].astype(str)\n",
    "#Distance calculation from Univ zipcode to student zipcode#\n",
    "df_all['dist'] = dist.query_postal_code(list(df_all['Univ_zip']), list(df_all['Zip']))"
   ]
  },
  {
   "cell_type": "code",
   "execution_count": 49,
   "metadata": {
    "ExecuteTime": {
     "end_time": "2021-06-23T14:49:22.823682Z",
     "start_time": "2021-06-23T14:49:22.810687Z"
    }
   },
   "outputs": [],
   "source": [
    "df_all[\"Address\"] = df_all['AddrLine1'] + ', ' + df_all['City'] + ', ' + df_all['State'] + ', ' + df_all['Zip']"
   ]
  },
  {
   "cell_type": "code",
   "execution_count": 50,
   "metadata": {
    "ExecuteTime": {
     "end_time": "2021-06-23T14:49:22.838678Z",
     "start_time": "2021-06-23T14:49:22.827681Z"
    }
   },
   "outputs": [],
   "source": [
    "df_all = df_all.loc[df_all['State']== 'NJ']"
   ]
  },
  {
   "cell_type": "code",
   "execution_count": 51,
   "metadata": {
    "ExecuteTime": {
     "end_time": "2021-06-23T14:49:22.886662Z",
     "start_time": "2021-06-23T14:49:22.840677Z"
    }
   },
   "outputs": [],
   "source": [
    "df_all.to_csv('nj.csv')"
   ]
  },
  {
   "cell_type": "code",
   "execution_count": 52,
   "metadata": {
    "ExecuteTime": {
     "end_time": "2021-06-23T14:49:22.902656Z",
     "start_time": "2021-06-23T14:49:22.888661Z"
    }
   },
   "outputs": [],
   "source": [
    "df_all.drop(columns=['AddrLine1','City','State','Univ_zip'],inplace = True)"
   ]
  },
  {
   "cell_type": "code",
   "execution_count": 53,
   "metadata": {
    "ExecuteTime": {
     "end_time": "2021-06-23T14:49:22.918651Z",
     "start_time": "2021-06-23T14:49:22.906655Z"
    }
   },
   "outputs": [],
   "source": [
    "df_all['Zip'] = df_all['Zip'].astype(str).str.zfill(5)"
   ]
  },
  {
   "cell_type": "markdown",
   "metadata": {},
   "source": [
    "A lot of students apply because of word of mouth or because their friends are also applying to the same university. To account for this we will inlcude a zipcode count parameter which will tell us how many students from the same area."
   ]
  },
  {
   "cell_type": "code",
   "execution_count": 54,
   "metadata": {
    "ExecuteTime": {
     "end_time": "2021-06-23T14:49:22.934646Z",
     "start_time": "2021-06-23T14:49:22.922650Z"
    }
   },
   "outputs": [],
   "source": [
    "# # len(df_all['Zip'].value_counts().map(lambda x:x <20))\n",
    "# # df_all.groupby(by='Zip').filter(lambda x: len(x) > 1)\n",
    "# df_all[df_all['Zip'].map(df_all['Zip'].value_counts()) < 5]['Zip'].unique()"
   ]
  },
  {
   "cell_type": "code",
   "execution_count": 55,
   "metadata": {
    "ExecuteTime": {
     "end_time": "2021-06-23T14:49:22.950641Z",
     "start_time": "2021-06-23T14:49:22.936646Z"
    }
   },
   "outputs": [],
   "source": [
    "df_all['Zip_Count'] = df_all.groupby('Zip')['Zip'].transform('count')"
   ]
  },
  {
   "cell_type": "markdown",
   "metadata": {},
   "source": [
    "## HSGPA"
   ]
  },
  {
   "cell_type": "code",
   "execution_count": 56,
   "metadata": {
    "ExecuteTime": {
     "end_time": "2021-06-23T14:49:22.982630Z",
     "start_time": "2021-06-23T14:49:22.952640Z"
    }
   },
   "outputs": [],
   "source": [
    " df_all['HSGPA'] = df_all['HSGPA'].str.replace(\" \",'0')"
   ]
  },
  {
   "cell_type": "code",
   "execution_count": 57,
   "metadata": {
    "ExecuteTime": {
     "end_time": "2021-06-23T14:49:22.998625Z",
     "start_time": "2021-06-23T14:49:22.985629Z"
    }
   },
   "outputs": [],
   "source": [
    "df_all['HSGPA'] = df_all['HSGPA'].str.rstrip(',')\n",
    "    "
   ]
  },
  {
   "cell_type": "code",
   "execution_count": 58,
   "metadata": {
    "ExecuteTime": {
     "end_time": "2021-06-23T14:49:23.014619Z",
     "start_time": "2021-06-23T14:49:23.000624Z"
    }
   },
   "outputs": [],
   "source": [
    "df_all['HSGPA'] = df_all['HSGPA'].str.lstrip(',')"
   ]
  },
  {
   "cell_type": "code",
   "execution_count": 59,
   "metadata": {
    "ExecuteTime": {
     "end_time": "2021-06-23T14:49:23.030614Z",
     "start_time": "2021-06-23T14:49:23.016619Z"
    }
   },
   "outputs": [],
   "source": [
    "#  df_all['HSGPA'] = df_all['HSGPA'].str.strip()"
   ]
  },
  {
   "cell_type": "code",
   "execution_count": 60,
   "metadata": {
    "ExecuteTime": {
     "end_time": "2021-06-23T14:49:23.061604Z",
     "start_time": "2021-06-23T14:49:23.035613Z"
    }
   },
   "outputs": [
    {
     "data": {
      "text/plain": [
       "str"
      ]
     },
     "execution_count": 60,
     "metadata": {},
     "output_type": "execute_result"
    }
   ],
   "source": [
    "type( df_all['HSGPA'][0])"
   ]
  },
  {
   "cell_type": "code",
   "execution_count": 61,
   "metadata": {
    "ExecuteTime": {
     "end_time": "2021-06-23T14:49:23.077599Z",
     "start_time": "2021-06-23T14:49:23.063603Z"
    }
   },
   "outputs": [],
   "source": [
    "# convert string to list using comma as seperator\n",
    "df_all['HSGPA'] = df_all['HSGPA'].str.split(\",\")"
   ]
  },
  {
   "cell_type": "code",
   "execution_count": 62,
   "metadata": {
    "ExecuteTime": {
     "end_time": "2021-06-23T14:49:23.093594Z",
     "start_time": "2021-06-23T14:49:23.079598Z"
    }
   },
   "outputs": [],
   "source": [
    "#convert elements of list from string to int\n",
    "df_all['HSGPA'] = df_all['HSGPA'].map(lambda x: [float(i) for i in x])"
   ]
  },
  {
   "cell_type": "code",
   "execution_count": 63,
   "metadata": {
    "ExecuteTime": {
     "end_time": "2021-06-23T14:49:23.109589Z",
     "start_time": "2021-06-23T14:49:23.095593Z"
    }
   },
   "outputs": [],
   "source": [
    "#replace list with max in list \n",
    "df_all['HSGPA'] = df_all['HSGPA'].map(lambda x: max(x))\n",
    "#Covert to int data type\n",
    "df_all['HSGPA'] = df_all['HSGPA'].astype(float)\n",
    "    "
   ]
  },
  {
   "cell_type": "code",
   "execution_count": 64,
   "metadata": {
    "ExecuteTime": {
     "end_time": "2021-06-23T14:49:23.125583Z",
     "start_time": "2021-06-23T14:49:23.111588Z"
    }
   },
   "outputs": [],
   "source": [
    "# df_all.head()"
   ]
  },
  {
   "cell_type": "code",
   "execution_count": 65,
   "metadata": {
    "ExecuteTime": {
     "end_time": "2021-06-23T14:49:23.141577Z",
     "start_time": "2021-06-23T14:49:23.127583Z"
    }
   },
   "outputs": [],
   "source": [
    "# df1.to_csv('preprocessed_data.csv')"
   ]
  },
  {
   "cell_type": "markdown",
   "metadata": {},
   "source": [
    "## Income"
   ]
  },
  {
   "cell_type": "code",
   "execution_count": 66,
   "metadata": {
    "ExecuteTime": {
     "end_time": "2021-06-23T14:49:23.236548Z",
     "start_time": "2021-06-23T14:49:23.143577Z"
    }
   },
   "outputs": [],
   "source": [
    "df_income = pd.read_csv('Income_data.csv')"
   ]
  },
  {
   "cell_type": "code",
   "execution_count": 67,
   "metadata": {
    "ExecuteTime": {
     "end_time": "2021-06-23T14:49:23.252542Z",
     "start_time": "2021-06-23T14:49:23.238546Z"
    }
   },
   "outputs": [],
   "source": [
    "# df_income.head()"
   ]
  },
  {
   "cell_type": "code",
   "execution_count": 68,
   "metadata": {
    "ExecuteTime": {
     "end_time": "2021-06-23T14:49:23.284530Z",
     "start_time": "2021-06-23T14:49:23.266537Z"
    }
   },
   "outputs": [],
   "source": [
    "new_header = df_income.iloc[0] #Select new column names as the first row\n",
    "df_income = df_income[1:] #exclude first row\n",
    "df_income.columns = new_header#Relabel column names "
   ]
  },
  {
   "cell_type": "code",
   "execution_count": 69,
   "metadata": {
    "ExecuteTime": {
     "end_time": "2021-06-23T14:49:23.300525Z",
     "start_time": "2021-06-23T14:49:23.292527Z"
    }
   },
   "outputs": [],
   "source": [
    "# df_income.head()"
   ]
  },
  {
   "cell_type": "code",
   "execution_count": 70,
   "metadata": {
    "ExecuteTime": {
     "end_time": "2021-06-23T14:49:23.316520Z",
     "start_time": "2021-06-23T14:49:23.302525Z"
    }
   },
   "outputs": [],
   "source": [
    "#Select last 5 characters as zip\n",
    "df_income['Zip'] = df_income['Geographic Area Name'].astype(str).str[-5:]"
   ]
  },
  {
   "cell_type": "code",
   "execution_count": 71,
   "metadata": {
    "ExecuteTime": {
     "end_time": "2021-06-23T14:49:23.332515Z",
     "start_time": "2021-06-23T14:49:23.318520Z"
    }
   },
   "outputs": [
    {
     "data": {
      "text/plain": [
       "595"
      ]
     },
     "execution_count": 71,
     "metadata": {},
     "output_type": "execute_result"
    }
   ],
   "source": [
    "len(df_income['Zip'].unique())"
   ]
  },
  {
   "cell_type": "code",
   "execution_count": 72,
   "metadata": {
    "ExecuteTime": {
     "end_time": "2021-06-23T14:49:23.348509Z",
     "start_time": "2021-06-23T14:49:23.335514Z"
    }
   },
   "outputs": [],
   "source": [
    "inc = df_income[['Estimate!!Households!!Median income (dollars)']]\n"
   ]
  },
  {
   "cell_type": "code",
   "execution_count": 73,
   "metadata": {
    "ExecuteTime": {
     "end_time": "2021-06-23T14:49:23.380499Z",
     "start_time": "2021-06-23T14:49:23.350509Z"
    }
   },
   "outputs": [
    {
     "name": "stderr",
     "output_type": "stream",
     "text": [
      "C:\\Users\\Laurel\\anaconda3\\envs\\learn-env\\lib\\site-packages\\pandas\\core\\series.py:4582: SettingWithCopyWarning: \n",
      "A value is trying to be set on a copy of a slice from a DataFrame\n",
      "\n",
      "See the caveats in the documentation: https://pandas.pydata.org/pandas-docs/stable/user_guide/indexing.html#returning-a-view-versus-a-copy\n",
      "  method=method,\n"
     ]
    }
   ],
   "source": [
    "inc['Estimate!!Households!!Median income (dollars)'].replace('-','0',inplace=True)"
   ]
  },
  {
   "cell_type": "code",
   "execution_count": 74,
   "metadata": {
    "ExecuteTime": {
     "end_time": "2021-06-23T14:49:23.396494Z",
     "start_time": "2021-06-23T14:49:23.382498Z"
    }
   },
   "outputs": [
    {
     "data": {
      "text/plain": [
       "88892.0"
      ]
     },
     "execution_count": 74,
     "metadata": {},
     "output_type": "execute_result"
    }
   ],
   "source": [
    "inc['Estimate!!Households!!Median income (dollars)'].median()"
   ]
  },
  {
   "cell_type": "code",
   "execution_count": 75,
   "metadata": {
    "ExecuteTime": {
     "end_time": "2021-06-23T14:49:23.412489Z",
     "start_time": "2021-06-23T14:49:23.398493Z"
    }
   },
   "outputs": [],
   "source": [
    "df_all = pd.merge(df_all, df_income[['Zip','Estimate!!Households!!Median income (dollars)']], on='Zip')"
   ]
  },
  {
   "cell_type": "code",
   "execution_count": 76,
   "metadata": {
    "ExecuteTime": {
     "end_time": "2021-06-23T14:49:23.427483Z",
     "start_time": "2021-06-23T14:49:23.414488Z"
    }
   },
   "outputs": [],
   "source": [
    "# df_all"
   ]
  },
  {
   "cell_type": "code",
   "execution_count": 77,
   "metadata": {
    "ExecuteTime": {
     "end_time": "2021-06-23T14:49:23.442480Z",
     "start_time": "2021-06-23T14:49:23.429483Z"
    }
   },
   "outputs": [],
   "source": [
    "df_all.rename(columns={'Estimate!!Households!!Median income (dollars)':'Median Income'},inplace=True)"
   ]
  },
  {
   "cell_type": "code",
   "execution_count": 78,
   "metadata": {
    "ExecuteTime": {
     "end_time": "2021-06-23T14:49:23.458474Z",
     "start_time": "2021-06-23T14:49:23.446478Z"
    }
   },
   "outputs": [],
   "source": [
    "df_all['Median Income'].fillna('0',inplace= True)"
   ]
  },
  {
   "cell_type": "code",
   "execution_count": 79,
   "metadata": {
    "ExecuteTime": {
     "end_time": "2021-06-23T14:49:23.474468Z",
     "start_time": "2021-06-23T14:49:23.460473Z"
    }
   },
   "outputs": [],
   "source": [
    "df_all['Median Income'] = df_all['Median Income'].astype(int)"
   ]
  },
  {
   "cell_type": "code",
   "execution_count": 80,
   "metadata": {
    "ExecuteTime": {
     "end_time": "2021-06-23T14:49:23.505457Z",
     "start_time": "2021-06-23T14:49:23.476467Z"
    }
   },
   "outputs": [
    {
     "name": "stdout",
     "output_type": "stream",
     "text": [
      "<class 'pandas.core.frame.DataFrame'>\n",
      "Int64Index: 2049 entries, 0 to 2048\n",
      "Data columns (total 11 columns):\n",
      " #   Column         Non-Null Count  Dtype  \n",
      "---  ------         --------------  -----  \n",
      " 0   Applicant      2049 non-null   int32  \n",
      " 1   Gender         2049 non-null   object \n",
      " 2   Major          2049 non-null   object \n",
      " 3   Housing        2049 non-null   object \n",
      " 4   SAT            2049 non-null   int32  \n",
      " 5   HSGPA          2049 non-null   float64\n",
      " 6   Zip            2049 non-null   object \n",
      " 7   dist           2049 non-null   float64\n",
      " 8   Address        2049 non-null   object \n",
      " 9   Zip_Count      2049 non-null   int64  \n",
      " 10  Median Income  2049 non-null   int32  \n",
      "dtypes: float64(2), int32(3), int64(1), object(5)\n",
      "memory usage: 168.1+ KB\n"
     ]
    }
   ],
   "source": [
    "df_all.info()"
   ]
  },
  {
   "cell_type": "code",
   "execution_count": 81,
   "metadata": {
    "ExecuteTime": {
     "end_time": "2021-06-23T14:49:23.521453Z",
     "start_time": "2021-06-23T14:49:23.508457Z"
    }
   },
   "outputs": [],
   "source": [
    "# df_all.head()"
   ]
  },
  {
   "cell_type": "code",
   "execution_count": 82,
   "metadata": {
    "ExecuteTime": {
     "end_time": "2021-06-23T14:49:23.537447Z",
     "start_time": "2021-06-23T14:49:23.523452Z"
    }
   },
   "outputs": [],
   "source": [
    "# df_all['Median Income'].describe()"
   ]
  },
  {
   "cell_type": "code",
   "execution_count": 83,
   "metadata": {
    "ExecuteTime": {
     "end_time": "2021-06-23T14:49:23.569438Z",
     "start_time": "2021-06-23T14:49:23.539447Z"
    }
   },
   "outputs": [
    {
     "data": {
      "text/plain": [
       "count       595.000000\n",
       "mean      93156.556303\n",
       "std       42210.276688\n",
       "min           0.000000\n",
       "25%       68321.500000\n",
       "50%       88892.000000\n",
       "75%      119270.000000\n",
       "max      300002.000000\n",
       "Name: Estimate!!Households!!Median income (dollars), dtype: float64"
      ]
     },
     "execution_count": 83,
     "metadata": {},
     "output_type": "execute_result"
    }
   ],
   "source": [
    "df_income['Estimate!!Households!!Median income (dollars)'].replace('-','0').fillna('0').astype(float).describe()"
   ]
  },
  {
   "cell_type": "code",
   "execution_count": 84,
   "metadata": {
    "ExecuteTime": {
     "end_time": "2021-06-23T14:49:23.584432Z",
     "start_time": "2021-06-23T14:49:23.571436Z"
    }
   },
   "outputs": [],
   "source": [
    "# len(df_all['Zip'].unique())"
   ]
  },
  {
   "cell_type": "code",
   "execution_count": 85,
   "metadata": {
    "ExecuteTime": {
     "end_time": "2021-06-23T14:49:23.599427Z",
     "start_time": "2021-06-23T14:49:23.586431Z"
    }
   },
   "outputs": [],
   "source": [
    "# len(df_income['Geographic Area Name'].unique())"
   ]
  },
  {
   "cell_type": "markdown",
   "metadata": {},
   "source": [
    "##  Completion rate Scholarship and SPSERV"
   ]
  },
  {
   "cell_type": "code",
   "execution_count": 86,
   "metadata": {
    "ExecuteTime": {
     "end_time": "2021-06-23T14:49:23.631416Z",
     "start_time": "2021-06-23T14:49:23.601426Z"
    }
   },
   "outputs": [],
   "source": [
    "df_completion = pd.read_csv(\"Completion.csv\")\n"
   ]
  },
  {
   "cell_type": "code",
   "execution_count": 87,
   "metadata": {
    "ExecuteTime": {
     "end_time": "2021-06-23T14:49:23.662406Z",
     "start_time": "2021-06-23T14:49:23.633415Z"
    }
   },
   "outputs": [
    {
     "data": {
      "text/html": [
       "<div>\n",
       "<style scoped>\n",
       "    .dataframe tbody tr th:only-of-type {\n",
       "        vertical-align: middle;\n",
       "    }\n",
       "\n",
       "    .dataframe tbody tr th {\n",
       "        vertical-align: top;\n",
       "    }\n",
       "\n",
       "    .dataframe thead th {\n",
       "        text-align: right;\n",
       "    }\n",
       "</style>\n",
       "<table border=\"1\" class=\"dataframe\">\n",
       "  <thead>\n",
       "    <tr style=\"text-align: right;\">\n",
       "      <th></th>\n",
       "      <th>Applicant</th>\n",
       "      <th>SPSERV</th>\n",
       "      <th>Scholarship amount</th>\n",
       "      <th>Completed</th>\n",
       "    </tr>\n",
       "  </thead>\n",
       "  <tbody>\n",
       "    <tr>\n",
       "      <th>0</th>\n",
       "      <td>1831212</td>\n",
       "      <td>HON</td>\n",
       "      <td>9986</td>\n",
       "      <td>Yes</td>\n",
       "    </tr>\n",
       "    <tr>\n",
       "      <th>1</th>\n",
       "      <td>1614000</td>\n",
       "      <td>ATH</td>\n",
       "      <td>0</td>\n",
       "      <td>Yes</td>\n",
       "    </tr>\n",
       "    <tr>\n",
       "      <th>2</th>\n",
       "      <td>1672949</td>\n",
       "      <td>ATH</td>\n",
       "      <td>0</td>\n",
       "      <td>Yes</td>\n",
       "    </tr>\n",
       "    <tr>\n",
       "      <th>3</th>\n",
       "      <td>1959689</td>\n",
       "      <td>ATH</td>\n",
       "      <td>0</td>\n",
       "      <td>Yes</td>\n",
       "    </tr>\n",
       "    <tr>\n",
       "      <th>4</th>\n",
       "      <td>1691624</td>\n",
       "      <td>ATH</td>\n",
       "      <td>0</td>\n",
       "      <td>Yes</td>\n",
       "    </tr>\n",
       "  </tbody>\n",
       "</table>\n",
       "</div>"
      ],
      "text/plain": [
       "   Applicant SPSERV  Scholarship amount Completed\n",
       "0    1831212    HON                9986       Yes\n",
       "1    1614000    ATH                   0       Yes\n",
       "2    1672949    ATH                   0       Yes\n",
       "3    1959689    ATH                   0       Yes\n",
       "4    1691624    ATH                   0       Yes"
      ]
     },
     "execution_count": 87,
     "metadata": {},
     "output_type": "execute_result"
    }
   ],
   "source": [
    "df_completion.head()"
   ]
  },
  {
   "cell_type": "code",
   "execution_count": 88,
   "metadata": {
    "ExecuteTime": {
     "end_time": "2021-06-23T14:49:23.694396Z",
     "start_time": "2021-06-23T14:49:23.674402Z"
    }
   },
   "outputs": [],
   "source": [
    "df_all = pd.merge(df_all, df_completion, on='Applicant')"
   ]
  },
  {
   "cell_type": "code",
   "execution_count": 89,
   "metadata": {
    "ExecuteTime": {
     "end_time": "2021-06-23T14:49:23.710391Z",
     "start_time": "2021-06-23T14:49:23.696395Z"
    }
   },
   "outputs": [
    {
     "data": {
      "text/plain": [
       "REG          1359\n",
       "ATH           350\n",
       "EOF           147\n",
       "FIS           145\n",
       "HON            44\n",
       "FIS, FISA       4\n",
       "FISA            4\n",
       "Name: SPSERV, dtype: int64"
      ]
     },
     "execution_count": 89,
     "metadata": {},
     "output_type": "execute_result"
    }
   ],
   "source": [
    "df_all['SPSERV'].value_counts()"
   ]
  },
  {
   "cell_type": "code",
   "execution_count": 90,
   "metadata": {
    "ExecuteTime": {
     "end_time": "2021-06-23T14:49:23.726385Z",
     "start_time": "2021-06-23T14:49:23.712389Z"
    }
   },
   "outputs": [],
   "source": [
    "df_all.loc[df_all['SPSERV']=='FISA', 'SPSERV'] = 'FIS'"
   ]
  },
  {
   "cell_type": "code",
   "execution_count": 91,
   "metadata": {
    "ExecuteTime": {
     "end_time": "2021-06-23T14:49:23.742380Z",
     "start_time": "2021-06-23T14:49:23.730384Z"
    }
   },
   "outputs": [],
   "source": [
    "df_all.loc[df_all['SPSERV']=='FIS, FISA','SPSERV'] = 'FIS'"
   ]
  },
  {
   "cell_type": "code",
   "execution_count": 92,
   "metadata": {
    "ExecuteTime": {
     "end_time": "2021-06-23T14:49:23.788365Z",
     "start_time": "2021-06-23T14:49:23.744379Z"
    }
   },
   "outputs": [
    {
     "name": "stdout",
     "output_type": "stream",
     "text": [
      "<class 'pandas.core.frame.DataFrame'>\n",
      "Int64Index: 2053 entries, 0 to 2052\n",
      "Data columns (total 14 columns):\n",
      " #   Column              Non-Null Count  Dtype  \n",
      "---  ------              --------------  -----  \n",
      " 0   Applicant           2053 non-null   int32  \n",
      " 1   Gender              2053 non-null   object \n",
      " 2   Major               2053 non-null   object \n",
      " 3   Housing             2053 non-null   object \n",
      " 4   SAT                 2053 non-null   int32  \n",
      " 5   HSGPA               2053 non-null   float64\n",
      " 6   Zip                 2053 non-null   object \n",
      " 7   dist                2053 non-null   float64\n",
      " 8   Address             2053 non-null   object \n",
      " 9   Zip_Count           2053 non-null   int64  \n",
      " 10  Median Income       2053 non-null   int32  \n",
      " 11  SPSERV              2053 non-null   object \n",
      " 12  Scholarship amount  2053 non-null   int64  \n",
      " 13  Completed           2053 non-null   object \n",
      "dtypes: float64(2), int32(3), int64(2), object(7)\n",
      "memory usage: 216.5+ KB\n"
     ]
    }
   ],
   "source": [
    "df_all.info()"
   ]
  },
  {
   "cell_type": "code",
   "execution_count": 93,
   "metadata": {
    "ExecuteTime": {
     "end_time": "2021-06-23T14:49:23.804360Z",
     "start_time": "2021-06-23T14:49:23.790364Z"
    }
   },
   "outputs": [],
   "source": [
    "# df_all.head()"
   ]
  },
  {
   "cell_type": "markdown",
   "metadata": {},
   "source": [
    "## SAVE file for modelling"
   ]
  },
  {
   "cell_type": "code",
   "execution_count": 94,
   "metadata": {
    "ExecuteTime": {
     "end_time": "2021-06-23T14:49:23.835349Z",
     "start_time": "2021-06-23T14:49:23.806359Z"
    }
   },
   "outputs": [],
   "source": [
    "df_all.to_csv('clean.csv',index = False )"
   ]
  },
  {
   "cell_type": "code",
   "execution_count": null,
   "metadata": {},
   "outputs": [],
   "source": []
  }
 ],
 "metadata": {
  "kernelspec": {
   "display_name": "Python [conda env:learn-env] *",
   "language": "python",
   "name": "conda-env-learn-env-py"
  },
  "language_info": {
   "codemirror_mode": {
    "name": "ipython",
    "version": 3
   },
   "file_extension": ".py",
   "mimetype": "text/x-python",
   "name": "python",
   "nbconvert_exporter": "python",
   "pygments_lexer": "ipython3",
   "version": "3.6.12"
  },
  "toc": {
   "base_numbering": 1,
   "nav_menu": {},
   "number_sections": true,
   "sideBar": true,
   "skip_h1_title": false,
   "title_cell": "Table of Contents",
   "title_sidebar": "Contents",
   "toc_cell": false,
   "toc_position": {},
   "toc_section_display": true,
   "toc_window_display": true
  },
  "varInspector": {
   "cols": {
    "lenName": 16,
    "lenType": 16,
    "lenVar": 40
   },
   "kernels_config": {
    "python": {
     "delete_cmd_postfix": "",
     "delete_cmd_prefix": "del ",
     "library": "var_list.py",
     "varRefreshCmd": "print(var_dic_list())"
    },
    "r": {
     "delete_cmd_postfix": ") ",
     "delete_cmd_prefix": "rm(",
     "library": "var_list.r",
     "varRefreshCmd": "cat(var_dic_list()) "
    }
   },
   "types_to_exclude": [
    "module",
    "function",
    "builtin_function_or_method",
    "instance",
    "_Feature"
   ],
   "window_display": false
  }
 },
 "nbformat": 4,
 "nbformat_minor": 4
}
