{
 "cells": [
  {
   "cell_type": "markdown",
   "metadata": {},
   "source": [
    "## Introduction: Building a Student classifier for a University \n",
    " According to colleboard High school graduates typically apply to 5-8 universities. The students then select a college based on variouys factors such as proximity to their residence, scholarship/ expenses , colleges chosen/recommended by their peers relatives, their academic performance etc. A lot of students transfer out after their first/second year due to various reasons. These students affect the university in a negative way in terms of graduation rates, finances etc. The primary goal of this analysis is to help the universities identify students who are more likely to complete their course work and graduate. The secondary goal is to build a student profile based on past years data that will help our marketing team narrow their recruitment efforts."
   ]
  },
  {
   "cell_type": "code",
   "execution_count": 99,
   "metadata": {
    "ExecuteTime": {
     "end_time": "2021-06-23T12:42:53.937151Z",
     "start_time": "2021-06-23T12:42:53.918157Z"
    }
   },
   "outputs": [],
   "source": [
    "import warnings\n",
    "warnings.filterwarnings('ignore')\n",
    "import pandas as pd\n",
    "import matplotlib.pyplot as plt\n",
    "import seaborn as sns\n",
    "from scipy import stats\n",
    "from statistics import mean\n",
    "import numpy as np\n",
    "from sklearn.preprocessing import LabelEncoder\n",
    "from sklearn.preprocessing import OneHotEncoder\n",
    "from sklearn.model_selection import train_test_split\n",
    "from sklearn.tree import DecisionTreeClassifier\n",
    "from sklearn.metrics import accuracy_score,f1_score,roc_auc_score,confusion_matrix\n",
    "from collections import Counter\n",
    "from imblearn.over_sampling import SMOTE\n",
    "from sklearn.model_selection import RepeatedStratifiedKFold,StratifiedKFold,cross_val_score\n",
    "from numpy import std\n",
    "from sklearn.feature_selection import RFE, RFECV\n",
    "from sklearn.ensemble import BaggingClassifier, RandomForestClassifier\n",
    "from sklearn.model_selection import GridSearchCV\n"
   ]
  },
  {
   "cell_type": "code",
   "execution_count": 2,
   "metadata": {
    "ExecuteTime": {
     "end_time": "2021-06-23T12:24:34.737563Z",
     "start_time": "2021-06-23T12:24:34.650593Z"
    }
   },
   "outputs": [],
   "source": [
    "def distribution_plot(df,col,title,xtitle):\n",
    "    \"\"\"Create a distribution table with summary stats by passing (Dataframe,column,title,xtitle) \"\"\"\n",
    "    plt.figure(figsize=(15,10))\n",
    "    graph = sns.distplot(df[col])\n",
    "    graph.axvline(df[col].median(),color='r',linestyle='-')\n",
    "    graph.axvline(df[col].mean(),color='g',linestyle='--')\n",
    "    graph.axvline(df[col].mode()[0],color='b',linestyle='-')\n",
    "    plt.legend({'Median':df[col].median(),\n",
    "                'Mean':df[col].mean(),\n",
    "                'Mode':df[col].mode()})\n",
    "    plt.title(title,weight='bold').set_fontsize('18')\n",
    "    plt.xlabel(xtitle)\n",
    "    plt.show()\n",
    "    return df[col].describe()"
   ]
  },
  {
   "cell_type": "code",
   "execution_count": 3,
   "metadata": {
    "ExecuteTime": {
     "end_time": "2021-06-23T12:24:34.846526Z",
     "start_time": "2021-06-23T12:24:34.741561Z"
    }
   },
   "outputs": [],
   "source": [
    "def pie_chart(df,col,title):\n",
    "    \"\"\"Create a pie chart by passing (Dataframe,column,title) \"\"\"\n",
    "    df[col].value_counts().plot(kind='pie',labels = None, autopct='%1.1f%%')\n",
    "    plt.axis('equal')\n",
    "    plt.ylabel('')\n",
    "    plt.legend(labels = df[col].value_counts().index , \n",
    "               bbox_to_anchor=(0.25,0.5), \n",
    "               loc=\"center right\", \n",
    "               bbox_transform=plt.gcf().transFigure)\n",
    "    plt.title(title,size=20)\n",
    "    plt.show()"
   ]
  },
  {
   "cell_type": "code",
   "execution_count": 4,
   "metadata": {
    "ExecuteTime": {
     "end_time": "2021-06-23T12:24:34.957491Z",
     "start_time": "2021-06-23T12:24:34.850525Z"
    }
   },
   "outputs": [],
   "source": [
    "def completion_catplot (df,x,y,title):\n",
    "    df1 = df.groupby(x)[y].value_counts(normalize=True)\n",
    "    df1 = df1.mul(100)\n",
    "    df1 = df1.rename('percent').reset_index()\n",
    "    g = sns.catplot(x=x,y='percent',hue=y,kind='bar',data=df1)\n",
    "    plt.title(title)\n",
    "    for p in g.ax.patches:\n",
    "        txt = str(p.get_height().round(2)) + '%'\n",
    "        txt_x = p.get_x() \n",
    "        txt_y = p.get_height()\n",
    "        g.ax.text(txt_x,txt_y,txt)\n",
    "completion_catplot.__doc__ =\"\"\"Create a bar chart representing indicators for levels of categorgical variables by passing\n",
    "                            (DataFrame,column with categorical variable,column with indicator,string title)\"\"\"\n",
    "  \n"
   ]
  },
  {
   "cell_type": "code",
   "execution_count": 5,
   "metadata": {
    "ExecuteTime": {
     "end_time": "2021-06-23T12:24:34.973486Z",
     "start_time": "2021-06-23T12:24:34.960490Z"
    }
   },
   "outputs": [],
   "source": [
    "\"\"\"Pass (y_test,y_predicted) to get F1,Accuracy and ROC_AUC\"\"\"\n",
    "def get_metrics(test, pred):\n",
    "    print(\"F1 Score: {}\".format(f1_score(test, pred, average= 'weighted')))\n",
    "    print(f'Accuracy Score Test: {accuracy_score(test, pred)}')\n",
    "    print(f'ROC_AUC Test: {roc_auc_score(test, pred)}')\n",
    "    "
   ]
  },
  {
   "cell_type": "code",
   "execution_count": 6,
   "metadata": {
    "ExecuteTime": {
     "end_time": "2021-06-23T12:24:35.067454Z",
     "start_time": "2021-06-23T12:24:34.976484Z"
    }
   },
   "outputs": [],
   "source": [
    "df = pd.read_csv('clean.csv')"
   ]
  },
  {
   "cell_type": "code",
   "execution_count": 140,
   "metadata": {
    "ExecuteTime": {
     "end_time": "2021-06-23T13:18:10.756561Z",
     "start_time": "2021-06-23T13:18:10.742564Z"
    }
   },
   "outputs": [],
   "source": [
    "# df.head()"
   ]
  },
  {
   "cell_type": "code",
   "execution_count": 148,
   "metadata": {
    "ExecuteTime": {
     "end_time": "2021-06-23T13:57:17.765177Z",
     "start_time": "2021-06-23T13:57:17.754176Z"
    }
   },
   "outputs": [],
   "source": [
    "# df.info()"
   ]
  },
  {
   "cell_type": "code",
   "execution_count": 9,
   "metadata": {
    "ExecuteTime": {
     "end_time": "2021-06-23T12:24:35.178417Z",
     "start_time": "2021-06-23T12:24:35.150427Z"
    }
   },
   "outputs": [],
   "source": [
    "#add leading zeroes to convert zip in 5 numbers\n",
    "df['Zip'] = df['Zip'].astype(str).str.zfill(5)"
   ]
  },
  {
   "cell_type": "code",
   "execution_count": 10,
   "metadata": {
    "ExecuteTime": {
     "end_time": "2021-06-23T12:24:35.265368Z",
     "start_time": "2021-06-23T12:24:35.186414Z"
    }
   },
   "outputs": [],
   "source": [
    "# Students who completed their program\n",
    "df_Completed = df.loc[df[\"Completed\"]==\"Yes\"]"
   ]
  },
  {
   "cell_type": "markdown",
   "metadata": {},
   "source": [
    "## EDA"
   ]
  },
  {
   "cell_type": "markdown",
   "metadata": {},
   "source": [
    "### General "
   ]
  },
  {
   "cell_type": "markdown",
   "metadata": {},
   "source": [
    "What are the zipcodes where we get the most number of completions ?"
   ]
  },
  {
   "cell_type": "code",
   "execution_count": 11,
   "metadata": {
    "ExecuteTime": {
     "end_time": "2021-06-23T12:24:35.779800Z",
     "start_time": "2021-06-23T12:24:35.265368Z"
    }
   },
   "outputs": [
    {
     "data": {
      "image/png": "[encoded data removed]",
      "text/plain": [
       "<Figure size 720x720 with 1 Axes>"
      ]
     },
     "metadata": {
      "needs_background": "light"
     },
     "output_type": "display_data"
    }
   ],
   "source": [
    "#look at the top 10 Zipcodes where students apply from  \n",
    "y = df_Completed.Zip.value_counts().values[:10]\n",
    "x = df_Completed.Zip.value_counts().index[:10]\n",
    "\n",
    "plt.figure(figsize=(10,10))\n",
    "sns.barplot(y,x)\n",
    "plt.title('Zipcodes with highest completion rates',weight='bold').set_fontsize('25')\n",
    "plt.ylabel(\"Zipcode\", size=20, rotation=90)\n",
    "plt.xlabel(\"Number of students\", size=20)\n",
    "plt.xticks(size=15)\n",
    "plt.yticks(size=15)\n",
    "plt.show()"
   ]
  },
  {
   "cell_type": "code",
   "execution_count": 12,
   "metadata": {
    "ExecuteTime": {
     "end_time": "2021-06-23T12:24:35.801783Z",
     "start_time": "2021-06-23T12:24:35.782817Z"
    }
   },
   "outputs": [
    {
     "name": "stdout",
     "output_type": "stream",
     "text": [
      "Average distance of students top 10 completion rate: 21.16 miles\n"
     ]
    }
   ],
   "source": [
    "#Average distance of students top 10 completion rate\n",
    "distance = []\n",
    "for zipcode in x:\n",
    "    distance.append(df_Completed.loc[df_Completed['Zip']==zipcode,'dist'].iloc[0])\n",
    "# print(distance)\n",
    "print(\"Average distance of students top 10 completion rate:\",round(mean(distance),2),\"miles\")"
   ]
  },
  {
   "cell_type": "code",
   "execution_count": 13,
   "metadata": {
    "ExecuteTime": {
     "end_time": "2021-06-23T12:24:35.833316Z",
     "start_time": "2021-06-23T12:24:35.801783Z"
    }
   },
   "outputs": [],
   "source": [
    "# Filter Students in special programs\n",
    "df_SPSERV = df_Completed.loc[df_Completed[\"SPSERV\"]!=\"REG\"]"
   ]
  },
  {
   "cell_type": "code",
   "execution_count": 14,
   "metadata": {
    "ExecuteTime": {
     "end_time": "2021-06-23T12:24:36.152481Z",
     "start_time": "2021-06-23T12:24:35.836584Z"
    }
   },
   "outputs": [
    {
     "data": {
      "image/png": "[encoded data removed]",
      "text/plain": [
       "<Figure size 432x288 with 1 Axes>"
      ]
     },
     "metadata": {},
     "output_type": "display_data"
    }
   ],
   "source": [
    "#See the students program breakdown \n",
    "pie_chart(df_SPSERV,\"SPSERV\",\"SPSERV breakdown\")"
   ]
  },
  {
   "cell_type": "code",
   "execution_count": 15,
   "metadata": {
    "ExecuteTime": {
     "end_time": "2021-06-23T12:24:36.373407Z",
     "start_time": "2021-06-23T12:24:36.155480Z"
    }
   },
   "outputs": [
    {
     "data": {
      "image/png": "[encoded data removed]",
      "text/plain": [
       "<Figure size 432x288 with 1 Axes>"
      ]
     },
     "metadata": {},
     "output_type": "display_data"
    }
   ],
   "source": [
    "#See the students completion rate \n",
    "pie_chart(df_Completed,\"Major\",\"Major Breakdown\")"
   ]
  },
  {
   "cell_type": "markdown",
   "metadata": {},
   "source": [
    "What is the average SAT score of our students that completed ?"
   ]
  },
  {
   "cell_type": "code",
   "execution_count": 16,
   "metadata": {
    "ExecuteTime": {
     "end_time": "2021-06-23T12:24:36.884965Z",
     "start_time": "2021-06-23T12:24:36.375407Z"
    }
   },
   "outputs": [
    {
     "data": {
      "image/png": "[encoded data removed]",
      "text/plain": [
       "<Figure size 1080x720 with 1 Axes>"
      ]
     },
     "metadata": {
      "needs_background": "light"
     },
     "output_type": "display_data"
    },
    {
     "data": {
      "text/plain": [
       "count    1795.000000\n",
       "mean     1101.192201\n",
       "std       137.332950\n",
       "min       600.000000\n",
       "25%      1010.000000\n",
       "50%      1100.000000\n",
       "75%      1180.000000\n",
       "max      1530.000000\n",
       "Name: SAT, dtype: float64"
      ]
     },
     "execution_count": 16,
     "metadata": {},
     "output_type": "execute_result"
    }
   ],
   "source": [
    "distribution_plot(df_Completed,'SAT','SAT scores of Applicants who completed','SAT')"
   ]
  },
  {
   "cell_type": "markdown",
   "metadata": {
    "ExecuteTime": {
     "end_time": "2021-06-19T22:26:35.986871Z",
     "start_time": "2021-06-19T22:26:35.965878Z"
    }
   },
   "source": [
    "What is the HS GPA of students with most completion. "
   ]
  },
  {
   "cell_type": "code",
   "execution_count": 17,
   "metadata": {
    "ExecuteTime": {
     "end_time": "2021-06-23T12:24:37.293298Z",
     "start_time": "2021-06-23T12:24:36.884965Z"
    }
   },
   "outputs": [
    {
     "data": {
      "image/png": "[encoded data removed]",
      "text/plain": [
       "<Figure size 1080x720 with 1 Axes>"
      ]
     },
     "metadata": {
      "needs_background": "light"
     },
     "output_type": "display_data"
    },
    {
     "data": {
      "text/plain": [
       "count    1795.000000\n",
       "mean        3.415062\n",
       "std         0.523542\n",
       "min         1.800000\n",
       "25%         3.060000\n",
       "50%         3.500000\n",
       "75%         3.910000\n",
       "max         5.583000\n",
       "Name: HSGPA, dtype: float64"
      ]
     },
     "execution_count": 17,
     "metadata": {},
     "output_type": "execute_result"
    }
   ],
   "source": [
    "distribution_plot(df_Completed,'HSGPA','High school GPA of Applicants who completed','GPA')"
   ]
  },
  {
   "cell_type": "markdown",
   "metadata": {},
   "source": [
    "High median GPA justifies the fact that some (or most) of the GPA is self reported and never verified.  SAT is used for admission for this very reason as HS GPA is not very consistenet among different school districts.We can further assess this speculation by observing if there is a correlation between the two performance parameters."
   ]
  },
  {
   "cell_type": "code",
   "execution_count": 18,
   "metadata": {
    "ExecuteTime": {
     "end_time": "2021-06-23T12:24:38.012831Z",
     "start_time": "2021-06-23T12:24:37.293298Z"
    }
   },
   "outputs": [
    {
     "data": {
      "image/png": "[encoded data removed]",
      "text/plain": [
       "<Figure size 1080x720 with 1 Axes>"
      ]
     },
     "metadata": {
      "needs_background": "light"
     },
     "output_type": "display_data"
    }
   ],
   "source": [
    "\"\"\"Visualtize to see correlation between SAT and HSGPA\"\"\"\n",
    "plt.figure(figsize=(15,10))\n",
    "sns.regplot(y=df_Completed['SAT'], x=df_Completed['HSGPA'],data=df_Completed)\n",
    "plt.title('SAT vs HSGPA',weight='bold').set_fontsize('18')"
   ]
  },
  {
   "cell_type": "code",
   "execution_count": 19,
   "metadata": {
    "ExecuteTime": {
     "end_time": "2021-06-23T12:24:38.043820Z",
     "start_time": "2021-06-23T12:24:38.014830Z"
    }
   },
   "outputs": [
    {
     "data": {
      "text/plain": [
       "0.4480623360871629"
      ]
     },
     "execution_count": 19,
     "metadata": {},
     "output_type": "execute_result"
    }
   ],
   "source": [
    "#Calculate the correlation coefficinet between SAT and HS GPA\n",
    "slope, intercept, r_value, p_value, std_err = stats.linregress(df_Completed['SAT'],df_Completed['HSGPA'])\n",
    "r_value"
   ]
  },
  {
   "cell_type": "code",
   "execution_count": 20,
   "metadata": {
    "ExecuteTime": {
     "end_time": "2021-06-23T12:24:38.058816Z",
     "start_time": "2021-06-23T12:24:38.045820Z"
    }
   },
   "outputs": [
    {
     "data": {
      "text/plain": [
       "0.4480623360871629"
      ]
     },
     "execution_count": 20,
     "metadata": {},
     "output_type": "execute_result"
    }
   ],
   "source": [
    "#Calculate the correlation coefficinet between SAT and HS GPA\n",
    "slope, intercept, r_value, p_value, std_err = stats.linregress(df_Completed['SAT'],df_Completed['HSGPA'])\n",
    "r_value"
   ]
  },
  {
   "cell_type": "markdown",
   "metadata": {},
   "source": [
    "Low correlation confirms our suspicion that HS gpa is not a very reliable performance metric due to its inconsistency across various school districts."
   ]
  },
  {
   "cell_type": "markdown",
   "metadata": {},
   "source": [
    "Let see the median Household income the zipcodes "
   ]
  },
  {
   "cell_type": "code",
   "execution_count": 21,
   "metadata": {
    "ExecuteTime": {
     "end_time": "2021-06-23T12:24:38.230760Z",
     "start_time": "2021-06-23T12:24:38.060815Z"
    }
   },
   "outputs": [
    {
     "data": {
      "text/plain": [
       "count      1795.000000\n",
       "mean      99438.437326\n",
       "std       34425.821750\n",
       "min       23617.000000\n",
       "25%       75000.000000\n",
       "50%       98888.000000\n",
       "75%      123204.000000\n",
       "max      300002.000000\n",
       "Name: Median Income, dtype: float64"
      ]
     },
     "execution_count": 21,
     "metadata": {},
     "output_type": "execute_result"
    },
    {
     "data": {
      "image/png": "[encoded data removed]",
      "text/plain": [
       "<Figure size 720x360 with 1 Axes>"
      ]
     },
     "metadata": {
      "needs_background": "light"
     },
     "output_type": "display_data"
    }
   ],
   "source": [
    "plt.figure(figsize=(10,5))\n",
    "sns.boxplot(df_Completed['Median Income'])\n",
    "plt.title(\"Household Income based on zipcodes\",weight='bold').set_fontsize('18')\n",
    "df_Completed['Median Income'].describe()"
   ]
  },
  {
   "cell_type": "code",
   "execution_count": 22,
   "metadata": {
    "ExecuteTime": {
     "end_time": "2021-06-23T12:24:38.245754Z",
     "start_time": "2021-06-23T12:24:38.232759Z"
    }
   },
   "outputs": [
    {
     "data": {
      "text/plain": [
       "count     319.000000\n",
       "mean     7928.971787\n",
       "std      1465.012916\n",
       "min      3070.000000\n",
       "25%      7441.000000\n",
       "50%      8159.000000\n",
       "75%      8881.000000\n",
       "max      9986.000000\n",
       "Name: Scholarship amount, dtype: float64"
      ]
     },
     "execution_count": 22,
     "metadata": {},
     "output_type": "execute_result"
    }
   ],
   "source": [
    "df_Completed.loc[df_Completed['Scholarship amount']>0]['Scholarship amount'].describe()"
   ]
  },
  {
   "cell_type": "markdown",
   "metadata": {},
   "source": [
    "### Completion rate Visuals"
   ]
  },
  {
   "cell_type": "markdown",
   "metadata": {},
   "source": [
    "Its important to know What percent of students completed their coursework? These students are the ones that stay in the university for 4 years thus generating revenue each year. Our goal will be to come up with a model that will identify these students "
   ]
  },
  {
   "cell_type": "code",
   "execution_count": 23,
   "metadata": {
    "ExecuteTime": {
     "end_time": "2021-06-23T12:24:38.385709Z",
     "start_time": "2021-06-23T12:24:38.252752Z"
    }
   },
   "outputs": [
    {
     "data": {
      "image/png": "[encoded data removed]",
      "text/plain": [
       "<Figure size 432x288 with 1 Axes>"
      ]
     },
     "metadata": {},
     "output_type": "display_data"
    }
   ],
   "source": [
    "#See the students completion rate \n",
    "pie_chart(df,\"Completed\",\"Student Completion rate\")"
   ]
  },
  {
   "cell_type": "markdown",
   "metadata": {},
   "source": [
    "### Completion rate by gender"
   ]
  },
  {
   "cell_type": "code",
   "execution_count": 24,
   "metadata": {
    "ExecuteTime": {
     "end_time": "2021-06-23T12:24:38.745592Z",
     "start_time": "2021-06-23T12:24:38.389708Z"
    }
   },
   "outputs": [
    {
     "data": {
      "image/png": "[encoded data removed]",
      "text/plain": [
       "<Figure size 422.125x360 with 1 Axes>"
      ]
     },
     "metadata": {
      "needs_background": "light"
     },
     "output_type": "display_data"
    }
   ],
   "source": [
    "#Completion rate by gender\n",
    "completion_catplot(df,'Gender','Completed',\"Completion rate by gender\")\n"
   ]
  },
  {
   "cell_type": "markdown",
   "metadata": {},
   "source": [
    "Completion rate is more or less the same among male and female students "
   ]
  },
  {
   "cell_type": "markdown",
   "metadata": {},
   "source": [
    "### Completion rate based on scholarship"
   ]
  },
  {
   "cell_type": "code",
   "execution_count": 25,
   "metadata": {
    "ExecuteTime": {
     "end_time": "2021-06-23T12:24:38.761584Z",
     "start_time": "2021-06-23T12:24:38.747589Z"
    }
   },
   "outputs": [],
   "source": [
    "df_Scholarship = df.loc[df['Scholarship amount']>0] # students with scholarship\n"
   ]
  },
  {
   "cell_type": "code",
   "execution_count": 26,
   "metadata": {
    "ExecuteTime": {
     "end_time": "2021-06-23T12:24:39.088477Z",
     "start_time": "2021-06-23T12:24:38.763584Z"
    }
   },
   "outputs": [
    {
     "data": {
      "image/png": "[encoded data removed]",
      "text/plain": [
       "<Figure size 422.125x360 with 1 Axes>"
      ]
     },
     "metadata": {
      "needs_background": "light"
     },
     "output_type": "display_data"
    }
   ],
   "source": [
    "df_scholarship_reg = df_Scholarship.loc[df_Scholarship['SPSERV']=='REG'] # reg students with scholarship\n",
    "completion_catplot(df_scholarship_reg,'SPSERV','Completed',\"Completion rate of students with scholarship\")\n"
   ]
  },
  {
   "cell_type": "code",
   "execution_count": 27,
   "metadata": {
    "ExecuteTime": {
     "end_time": "2021-06-23T12:24:39.104471Z",
     "start_time": "2021-06-23T12:24:39.090476Z"
    }
   },
   "outputs": [],
   "source": [
    "df_no_Scholarship = df.loc[df['Scholarship amount'] == 0] # students without scholarship"
   ]
  },
  {
   "cell_type": "code",
   "execution_count": 28,
   "metadata": {
    "ExecuteTime": {
     "end_time": "2021-06-23T12:24:39.494472Z",
     "start_time": "2021-06-23T12:24:39.106471Z"
    }
   },
   "outputs": [
    {
     "data": {
      "image/png": "[encoded data removed]",
      "text/plain": [
       "<Figure size 422.125x360 with 1 Axes>"
      ]
     },
     "metadata": {
      "needs_background": "light"
     },
     "output_type": "display_data"
    }
   ],
   "source": [
    "df_no_scholarship_reg = df_no_Scholarship.loc[df_no_Scholarship['SPSERV']=='REG'] # reg students without scholarship\n",
    "completion_catplot(df_no_scholarship_reg,'SPSERV','Completed',\"Completion rate of students without scholarship\")\n"
   ]
  },
  {
   "cell_type": "markdown",
   "metadata": {
    "ExecuteTime": {
     "end_time": "2021-06-18T23:13:29.331105Z",
     "start_time": "2021-06-18T23:13:29.323109Z"
    }
   },
   "source": [
    "### Completion rate by major."
   ]
  },
  {
   "cell_type": "code",
   "execution_count": 29,
   "metadata": {
    "ExecuteTime": {
     "end_time": "2021-06-23T12:24:39.837832Z",
     "start_time": "2021-06-23T12:24:39.496470Z"
    }
   },
   "outputs": [
    {
     "data": {
      "image/png": "[encoded data removed]",
      "text/plain": [
       "<Figure size 422.125x360 with 1 Axes>"
      ]
     },
     "metadata": {
      "needs_background": "light"
     },
     "output_type": "display_data"
    }
   ],
   "source": [
    "#Completion rate by Major\n",
    "completion_catplot(df,'Major','Completed',\"Completion rate by major\")"
   ]
  },
  {
   "cell_type": "markdown",
   "metadata": {},
   "source": [
    "### Completion rate by housing"
   ]
  },
  {
   "cell_type": "code",
   "execution_count": 30,
   "metadata": {
    "ExecuteTime": {
     "end_time": "2021-06-23T12:24:40.149452Z",
     "start_time": "2021-06-23T12:24:39.839833Z"
    }
   },
   "outputs": [
    {
     "data": {
      "image/png": "[encoded data removed]",
      "text/plain": [
       "<Figure size 422.125x360 with 1 Axes>"
      ]
     },
     "metadata": {
      "needs_background": "light"
     },
     "output_type": "display_data"
    }
   ],
   "source": [
    "#Completion rate by Housing status\n",
    "completion_catplot(df,'Housing','Completed',\"Completion rate by Housing status\")"
   ]
  },
  {
   "cell_type": "markdown",
   "metadata": {},
   "source": [
    "### Completion rate by spserv"
   ]
  },
  {
   "cell_type": "code",
   "execution_count": 31,
   "metadata": {
    "ExecuteTime": {
     "end_time": "2021-06-23T12:24:40.890922Z",
     "start_time": "2021-06-23T12:24:40.151455Z"
    }
   },
   "outputs": [
    {
     "name": "stderr",
     "output_type": "stream",
     "text": [
      "posx and posy should be finite values\n",
      "posx and posy should be finite values\n",
      "posx and posy should be finite values\n"
     ]
    },
    {
     "data": {
      "image/png": "[encoded data removed]",
      "text/plain": [
       "<Figure size 422.125x360 with 1 Axes>"
      ]
     },
     "metadata": {
      "needs_background": "light"
     },
     "output_type": "display_data"
    }
   ],
   "source": [
    "#Completion rate by SPSERV\n",
    "completion_catplot(df,'SPSERV','Completed',\"Completion rate by SPSERV\")\n"
   ]
  },
  {
   "cell_type": "code",
   "execution_count": 32,
   "metadata": {
    "ExecuteTime": {
     "end_time": "2021-06-23T12:24:41.649670Z",
     "start_time": "2021-06-23T12:24:40.894919Z"
    }
   },
   "outputs": [
    {
     "name": "stderr",
     "output_type": "stream",
     "text": [
      "posx and posy should be finite values\n",
      "posx and posy should be finite values\n",
      "posx and posy should be finite values\n"
     ]
    },
    {
     "data": {
      "image/png": "[encoded data removed]",
      "text/plain": [
       "<Figure size 422.125x360 with 1 Axes>"
      ]
     },
     "metadata": {
      "needs_background": "light"
     },
     "output_type": "display_data"
    }
   ],
   "source": [
    "#Completion rate by SPSERV\n",
    "completion_catplot(df.loc[df['SPSERV']!='REG'],'SPSERV','Completed',\"Completion rate by SPSERV\")\n"
   ]
  },
  {
   "cell_type": "markdown",
   "metadata": {},
   "source": [
    "Based on the various categories it seems that FIS has the highest completion rate(100%) Followed by athletes(98.5%) and EOF students(95.2%) "
   ]
  },
  {
   "cell_type": "markdown",
   "metadata": {},
   "source": [
    "### Encoding categoricals "
   ]
  },
  {
   "cell_type": "code",
   "execution_count": 33,
   "metadata": {
    "ExecuteTime": {
     "end_time": "2021-06-23T12:24:41.665666Z",
     "start_time": "2021-06-23T12:24:41.653669Z"
    }
   },
   "outputs": [],
   "source": [
    "df.drop(columns = ['Applicant','Address'],inplace = True)\n"
   ]
  },
  {
   "cell_type": "code",
   "execution_count": 34,
   "metadata": {
    "ExecuteTime": {
     "end_time": "2021-06-23T12:24:41.680662Z",
     "start_time": "2021-06-23T12:24:41.669663Z"
    }
   },
   "outputs": [],
   "source": [
    "#Filter string data\n",
    "categorical_list = list(df.columns[(df.dtypes.values == np.dtype('object'))])\n",
    "# categorical_list.remove('Zip')\n"
   ]
  },
  {
   "cell_type": "code",
   "execution_count": 35,
   "metadata": {
    "ExecuteTime": {
     "end_time": "2021-06-23T12:24:41.696654Z",
     "start_time": "2021-06-23T12:24:41.684658Z"
    }
   },
   "outputs": [],
   "source": [
    "categorical_list.remove('Zip')\n",
    "categorical_list.remove('Completed')"
   ]
  },
  {
   "cell_type": "code",
   "execution_count": 36,
   "metadata": {
    "ExecuteTime": {
     "end_time": "2021-06-23T12:24:41.728648Z",
     "start_time": "2021-06-23T12:24:41.699653Z"
    }
   },
   "outputs": [
    {
     "data": {
      "text/plain": [
       "['Gender', 'Major', 'Housing', 'SPSERV']"
      ]
     },
     "execution_count": 36,
     "metadata": {},
     "output_type": "execute_result"
    }
   ],
   "source": [
    "categorical_list"
   ]
  },
  {
   "cell_type": "code",
   "execution_count": 37,
   "metadata": {
    "ExecuteTime": {
     "end_time": "2021-06-23T12:24:41.743641Z",
     "start_time": "2021-06-23T12:24:41.732643Z"
    }
   },
   "outputs": [],
   "source": [
    " df_categorical = df [categorical_list]"
   ]
  },
  {
   "cell_type": "code",
   "execution_count": 38,
   "metadata": {
    "ExecuteTime": {
     "end_time": "2021-06-23T12:24:41.775628Z",
     "start_time": "2021-06-23T12:24:41.747638Z"
    }
   },
   "outputs": [],
   "source": [
    "df_dummy = pd.get_dummies(df_categorical)"
   ]
  },
  {
   "cell_type": "code",
   "execution_count": 39,
   "metadata": {
    "ExecuteTime": {
     "end_time": "2021-06-23T12:24:41.806620Z",
     "start_time": "2021-06-23T12:24:41.779626Z"
    }
   },
   "outputs": [
    {
     "data": {
      "text/html": [
       "<div>\n",
       "<style scoped>\n",
       "    .dataframe tbody tr th:only-of-type {\n",
       "        vertical-align: middle;\n",
       "    }\n",
       "\n",
       "    .dataframe tbody tr th {\n",
       "        vertical-align: top;\n",
       "    }\n",
       "\n",
       "    .dataframe thead th {\n",
       "        text-align: right;\n",
       "    }\n",
       "</style>\n",
       "<table border=\"1\" class=\"dataframe\">\n",
       "  <thead>\n",
       "    <tr style=\"text-align: right;\">\n",
       "      <th></th>\n",
       "      <th>Gender_F</th>\n",
       "      <th>Gender_M</th>\n",
       "      <th>Major_COMMERCE</th>\n",
       "      <th>Major_HUMANITIES/ARTS</th>\n",
       "      <th>Major_STEM</th>\n",
       "      <th>Housing_Commuter</th>\n",
       "      <th>Housing_Resident</th>\n",
       "      <th>SPSERV_ATH</th>\n",
       "      <th>SPSERV_EOF</th>\n",
       "      <th>SPSERV_FIS</th>\n",
       "      <th>SPSERV_HON</th>\n",
       "      <th>SPSERV_REG</th>\n",
       "    </tr>\n",
       "  </thead>\n",
       "  <tbody>\n",
       "    <tr>\n",
       "      <th>0</th>\n",
       "      <td>1</td>\n",
       "      <td>0</td>\n",
       "      <td>1</td>\n",
       "      <td>0</td>\n",
       "      <td>0</td>\n",
       "      <td>1</td>\n",
       "      <td>0</td>\n",
       "      <td>0</td>\n",
       "      <td>0</td>\n",
       "      <td>0</td>\n",
       "      <td>0</td>\n",
       "      <td>1</td>\n",
       "    </tr>\n",
       "    <tr>\n",
       "      <th>1</th>\n",
       "      <td>1</td>\n",
       "      <td>0</td>\n",
       "      <td>0</td>\n",
       "      <td>1</td>\n",
       "      <td>0</td>\n",
       "      <td>0</td>\n",
       "      <td>1</td>\n",
       "      <td>0</td>\n",
       "      <td>0</td>\n",
       "      <td>1</td>\n",
       "      <td>0</td>\n",
       "      <td>0</td>\n",
       "    </tr>\n",
       "    <tr>\n",
       "      <th>2</th>\n",
       "      <td>0</td>\n",
       "      <td>1</td>\n",
       "      <td>0</td>\n",
       "      <td>0</td>\n",
       "      <td>1</td>\n",
       "      <td>0</td>\n",
       "      <td>1</td>\n",
       "      <td>0</td>\n",
       "      <td>0</td>\n",
       "      <td>0</td>\n",
       "      <td>0</td>\n",
       "      <td>1</td>\n",
       "    </tr>\n",
       "    <tr>\n",
       "      <th>3</th>\n",
       "      <td>1</td>\n",
       "      <td>0</td>\n",
       "      <td>0</td>\n",
       "      <td>0</td>\n",
       "      <td>1</td>\n",
       "      <td>0</td>\n",
       "      <td>1</td>\n",
       "      <td>0</td>\n",
       "      <td>0</td>\n",
       "      <td>0</td>\n",
       "      <td>0</td>\n",
       "      <td>1</td>\n",
       "    </tr>\n",
       "    <tr>\n",
       "      <th>4</th>\n",
       "      <td>1</td>\n",
       "      <td>0</td>\n",
       "      <td>0</td>\n",
       "      <td>1</td>\n",
       "      <td>0</td>\n",
       "      <td>0</td>\n",
       "      <td>1</td>\n",
       "      <td>0</td>\n",
       "      <td>0</td>\n",
       "      <td>0</td>\n",
       "      <td>0</td>\n",
       "      <td>1</td>\n",
       "    </tr>\n",
       "  </tbody>\n",
       "</table>\n",
       "</div>"
      ],
      "text/plain": [
       "   Gender_F  Gender_M  Major_COMMERCE  Major_HUMANITIES/ARTS  Major_STEM  \\\n",
       "0         1         0               1                      0           0   \n",
       "1         1         0               0                      1           0   \n",
       "2         0         1               0                      0           1   \n",
       "3         1         0               0                      0           1   \n",
       "4         1         0               0                      1           0   \n",
       "\n",
       "   Housing_Commuter  Housing_Resident  SPSERV_ATH  SPSERV_EOF  SPSERV_FIS  \\\n",
       "0                 1                 0           0           0           0   \n",
       "1                 0                 1           0           0           1   \n",
       "2                 0                 1           0           0           0   \n",
       "3                 0                 1           0           0           0   \n",
       "4                 0                 1           0           0           0   \n",
       "\n",
       "   SPSERV_HON  SPSERV_REG  \n",
       "0           0           1  \n",
       "1           0           0  \n",
       "2           0           1  \n",
       "3           0           1  \n",
       "4           0           1  "
      ]
     },
     "execution_count": 39,
     "metadata": {},
     "output_type": "execute_result"
    }
   ],
   "source": [
    "df_dummy.head()"
   ]
  },
  {
   "cell_type": "code",
   "execution_count": 40,
   "metadata": {
    "ExecuteTime": {
     "end_time": "2021-06-23T12:24:41.838609Z",
     "start_time": "2021-06-23T12:24:41.809617Z"
    }
   },
   "outputs": [],
   "source": [
    "df_en = df.join(df_dummy)"
   ]
  },
  {
   "cell_type": "code",
   "execution_count": 41,
   "metadata": {
    "ExecuteTime": {
     "end_time": "2021-06-23T12:24:41.854604Z",
     "start_time": "2021-06-23T12:24:41.842606Z"
    }
   },
   "outputs": [],
   "source": [
    "#Convert target variable into 1 for completed and 0 for inompletes\n",
    "encoder = LabelEncoder()\n",
    "df_en['Completed'] = encoder.fit_transform(df_en['Completed'])\n",
    "df_en['Zip'] = encoder.fit_transform(df_en['Zip'])\n"
   ]
  },
  {
   "cell_type": "code",
   "execution_count": 42,
   "metadata": {
    "ExecuteTime": {
     "end_time": "2021-06-23T12:24:41.901591Z",
     "start_time": "2021-06-23T12:24:41.857601Z"
    }
   },
   "outputs": [
    {
     "name": "stdout",
     "output_type": "stream",
     "text": [
      "<class 'pandas.core.frame.DataFrame'>\n",
      "RangeIndex: 2053 entries, 0 to 2052\n",
      "Data columns (total 24 columns):\n",
      " #   Column                 Non-Null Count  Dtype  \n",
      "---  ------                 --------------  -----  \n",
      " 0   Gender                 2053 non-null   object \n",
      " 1   Major                  2053 non-null   object \n",
      " 2   Housing                2053 non-null   object \n",
      " 3   SAT                    2053 non-null   int64  \n",
      " 4   HSGPA                  2053 non-null   float64\n",
      " 5   Zip                    2053 non-null   int32  \n",
      " 6   dist                   2053 non-null   float64\n",
      " 7   Zip_Count              2053 non-null   int64  \n",
      " 8   Median Income          2053 non-null   int64  \n",
      " 9   SPSERV                 2053 non-null   object \n",
      " 10  Scholarship amount     2053 non-null   int64  \n",
      " 11  Completed              2053 non-null   int32  \n",
      " 12  Gender_F               2053 non-null   uint8  \n",
      " 13  Gender_M               2053 non-null   uint8  \n",
      " 14  Major_COMMERCE         2053 non-null   uint8  \n",
      " 15  Major_HUMANITIES/ARTS  2053 non-null   uint8  \n",
      " 16  Major_STEM             2053 non-null   uint8  \n",
      " 17  Housing_Commuter       2053 non-null   uint8  \n",
      " 18  Housing_Resident       2053 non-null   uint8  \n",
      " 19  SPSERV_ATH             2053 non-null   uint8  \n",
      " 20  SPSERV_EOF             2053 non-null   uint8  \n",
      " 21  SPSERV_FIS             2053 non-null   uint8  \n",
      " 22  SPSERV_HON             2053 non-null   uint8  \n",
      " 23  SPSERV_REG             2053 non-null   uint8  \n",
      "dtypes: float64(2), int32(2), int64(4), object(4), uint8(12)\n",
      "memory usage: 200.6+ KB\n"
     ]
    }
   ],
   "source": [
    "df_en.info()"
   ]
  },
  {
   "cell_type": "code",
   "execution_count": 43,
   "metadata": {
    "ExecuteTime": {
     "end_time": "2021-06-23T12:24:41.917586Z",
     "start_time": "2021-06-23T12:24:41.904586Z"
    }
   },
   "outputs": [],
   "source": [
    "df_en.drop(columns = categorical_list,inplace = True)"
   ]
  },
  {
   "cell_type": "code",
   "execution_count": 44,
   "metadata": {
    "ExecuteTime": {
     "end_time": "2021-06-23T12:24:41.980561Z",
     "start_time": "2021-06-23T12:24:41.921581Z"
    }
   },
   "outputs": [
    {
     "data": {
      "text/html": [
       "<div>\n",
       "<style scoped>\n",
       "    .dataframe tbody tr th:only-of-type {\n",
       "        vertical-align: middle;\n",
       "    }\n",
       "\n",
       "    .dataframe tbody tr th {\n",
       "        vertical-align: top;\n",
       "    }\n",
       "\n",
       "    .dataframe thead th {\n",
       "        text-align: right;\n",
       "    }\n",
       "</style>\n",
       "<table border=\"1\" class=\"dataframe\">\n",
       "  <thead>\n",
       "    <tr style=\"text-align: right;\">\n",
       "      <th></th>\n",
       "      <th>SAT</th>\n",
       "      <th>HSGPA</th>\n",
       "      <th>Zip</th>\n",
       "      <th>dist</th>\n",
       "      <th>Zip_Count</th>\n",
       "      <th>Median Income</th>\n",
       "      <th>Scholarship amount</th>\n",
       "      <th>Completed</th>\n",
       "      <th>Gender_F</th>\n",
       "      <th>Gender_M</th>\n",
       "      <th>Major_COMMERCE</th>\n",
       "      <th>Major_HUMANITIES/ARTS</th>\n",
       "      <th>Major_STEM</th>\n",
       "      <th>Housing_Commuter</th>\n",
       "      <th>Housing_Resident</th>\n",
       "      <th>SPSERV_ATH</th>\n",
       "      <th>SPSERV_EOF</th>\n",
       "      <th>SPSERV_FIS</th>\n",
       "      <th>SPSERV_HON</th>\n",
       "      <th>SPSERV_REG</th>\n",
       "    </tr>\n",
       "  </thead>\n",
       "  <tbody>\n",
       "    <tr>\n",
       "      <th>0</th>\n",
       "      <td>1060</td>\n",
       "      <td>3.300</td>\n",
       "      <td>89</td>\n",
       "      <td>16.519129</td>\n",
       "      <td>14</td>\n",
       "      <td>75000</td>\n",
       "      <td>0</td>\n",
       "      <td>1</td>\n",
       "      <td>1</td>\n",
       "      <td>0</td>\n",
       "      <td>1</td>\n",
       "      <td>0</td>\n",
       "      <td>0</td>\n",
       "      <td>1</td>\n",
       "      <td>0</td>\n",
       "      <td>0</td>\n",
       "      <td>0</td>\n",
       "      <td>0</td>\n",
       "      <td>0</td>\n",
       "      <td>1</td>\n",
       "    </tr>\n",
       "    <tr>\n",
       "      <th>1</th>\n",
       "      <td>950</td>\n",
       "      <td>3.330</td>\n",
       "      <td>89</td>\n",
       "      <td>16.519129</td>\n",
       "      <td>14</td>\n",
       "      <td>75000</td>\n",
       "      <td>0</td>\n",
       "      <td>1</td>\n",
       "      <td>1</td>\n",
       "      <td>0</td>\n",
       "      <td>0</td>\n",
       "      <td>1</td>\n",
       "      <td>0</td>\n",
       "      <td>0</td>\n",
       "      <td>1</td>\n",
       "      <td>0</td>\n",
       "      <td>0</td>\n",
       "      <td>1</td>\n",
       "      <td>0</td>\n",
       "      <td>0</td>\n",
       "    </tr>\n",
       "    <tr>\n",
       "      <th>2</th>\n",
       "      <td>1220</td>\n",
       "      <td>2.560</td>\n",
       "      <td>89</td>\n",
       "      <td>16.519129</td>\n",
       "      <td>14</td>\n",
       "      <td>75000</td>\n",
       "      <td>0</td>\n",
       "      <td>1</td>\n",
       "      <td>0</td>\n",
       "      <td>1</td>\n",
       "      <td>0</td>\n",
       "      <td>0</td>\n",
       "      <td>1</td>\n",
       "      <td>0</td>\n",
       "      <td>1</td>\n",
       "      <td>0</td>\n",
       "      <td>0</td>\n",
       "      <td>0</td>\n",
       "      <td>0</td>\n",
       "      <td>1</td>\n",
       "    </tr>\n",
       "    <tr>\n",
       "      <th>3</th>\n",
       "      <td>1280</td>\n",
       "      <td>3.929</td>\n",
       "      <td>89</td>\n",
       "      <td>16.519129</td>\n",
       "      <td>14</td>\n",
       "      <td>75000</td>\n",
       "      <td>9159</td>\n",
       "      <td>1</td>\n",
       "      <td>1</td>\n",
       "      <td>0</td>\n",
       "      <td>0</td>\n",
       "      <td>0</td>\n",
       "      <td>1</td>\n",
       "      <td>0</td>\n",
       "      <td>1</td>\n",
       "      <td>0</td>\n",
       "      <td>0</td>\n",
       "      <td>0</td>\n",
       "      <td>0</td>\n",
       "      <td>1</td>\n",
       "    </tr>\n",
       "    <tr>\n",
       "      <th>4</th>\n",
       "      <td>1240</td>\n",
       "      <td>3.560</td>\n",
       "      <td>89</td>\n",
       "      <td>16.519129</td>\n",
       "      <td>14</td>\n",
       "      <td>75000</td>\n",
       "      <td>6187</td>\n",
       "      <td>0</td>\n",
       "      <td>1</td>\n",
       "      <td>0</td>\n",
       "      <td>0</td>\n",
       "      <td>1</td>\n",
       "      <td>0</td>\n",
       "      <td>0</td>\n",
       "      <td>1</td>\n",
       "      <td>0</td>\n",
       "      <td>0</td>\n",
       "      <td>0</td>\n",
       "      <td>0</td>\n",
       "      <td>1</td>\n",
       "    </tr>\n",
       "    <tr>\n",
       "      <th>...</th>\n",
       "      <td>...</td>\n",
       "      <td>...</td>\n",
       "      <td>...</td>\n",
       "      <td>...</td>\n",
       "      <td>...</td>\n",
       "      <td>...</td>\n",
       "      <td>...</td>\n",
       "      <td>...</td>\n",
       "      <td>...</td>\n",
       "      <td>...</td>\n",
       "      <td>...</td>\n",
       "      <td>...</td>\n",
       "      <td>...</td>\n",
       "      <td>...</td>\n",
       "      <td>...</td>\n",
       "      <td>...</td>\n",
       "      <td>...</td>\n",
       "      <td>...</td>\n",
       "      <td>...</td>\n",
       "      <td>...</td>\n",
       "    </tr>\n",
       "    <tr>\n",
       "      <th>2048</th>\n",
       "      <td>1030</td>\n",
       "      <td>4.000</td>\n",
       "      <td>114</td>\n",
       "      <td>23.223581</td>\n",
       "      <td>3</td>\n",
       "      <td>134766</td>\n",
       "      <td>0</td>\n",
       "      <td>1</td>\n",
       "      <td>0</td>\n",
       "      <td>1</td>\n",
       "      <td>1</td>\n",
       "      <td>0</td>\n",
       "      <td>0</td>\n",
       "      <td>0</td>\n",
       "      <td>1</td>\n",
       "      <td>0</td>\n",
       "      <td>0</td>\n",
       "      <td>0</td>\n",
       "      <td>0</td>\n",
       "      <td>1</td>\n",
       "    </tr>\n",
       "    <tr>\n",
       "      <th>2049</th>\n",
       "      <td>1280</td>\n",
       "      <td>2.840</td>\n",
       "      <td>118</td>\n",
       "      <td>35.591392</td>\n",
       "      <td>1</td>\n",
       "      <td>184556</td>\n",
       "      <td>0</td>\n",
       "      <td>0</td>\n",
       "      <td>0</td>\n",
       "      <td>1</td>\n",
       "      <td>1</td>\n",
       "      <td>0</td>\n",
       "      <td>0</td>\n",
       "      <td>0</td>\n",
       "      <td>1</td>\n",
       "      <td>0</td>\n",
       "      <td>0</td>\n",
       "      <td>0</td>\n",
       "      <td>0</td>\n",
       "      <td>1</td>\n",
       "    </tr>\n",
       "    <tr>\n",
       "      <th>2050</th>\n",
       "      <td>1140</td>\n",
       "      <td>2.250</td>\n",
       "      <td>327</td>\n",
       "      <td>40.044172</td>\n",
       "      <td>1</td>\n",
       "      <td>201406</td>\n",
       "      <td>0</td>\n",
       "      <td>1</td>\n",
       "      <td>1</td>\n",
       "      <td>0</td>\n",
       "      <td>0</td>\n",
       "      <td>0</td>\n",
       "      <td>1</td>\n",
       "      <td>0</td>\n",
       "      <td>1</td>\n",
       "      <td>0</td>\n",
       "      <td>0</td>\n",
       "      <td>0</td>\n",
       "      <td>0</td>\n",
       "      <td>1</td>\n",
       "    </tr>\n",
       "    <tr>\n",
       "      <th>2051</th>\n",
       "      <td>1020</td>\n",
       "      <td>2.900</td>\n",
       "      <td>342</td>\n",
       "      <td>77.849439</td>\n",
       "      <td>1</td>\n",
       "      <td>85725</td>\n",
       "      <td>0</td>\n",
       "      <td>0</td>\n",
       "      <td>0</td>\n",
       "      <td>1</td>\n",
       "      <td>1</td>\n",
       "      <td>0</td>\n",
       "      <td>0</td>\n",
       "      <td>0</td>\n",
       "      <td>1</td>\n",
       "      <td>0</td>\n",
       "      <td>0</td>\n",
       "      <td>0</td>\n",
       "      <td>0</td>\n",
       "      <td>1</td>\n",
       "    </tr>\n",
       "    <tr>\n",
       "      <th>2052</th>\n",
       "      <td>910</td>\n",
       "      <td>2.690</td>\n",
       "      <td>205</td>\n",
       "      <td>33.824401</td>\n",
       "      <td>1</td>\n",
       "      <td>134375</td>\n",
       "      <td>0</td>\n",
       "      <td>1</td>\n",
       "      <td>0</td>\n",
       "      <td>1</td>\n",
       "      <td>0</td>\n",
       "      <td>1</td>\n",
       "      <td>0</td>\n",
       "      <td>0</td>\n",
       "      <td>1</td>\n",
       "      <td>0</td>\n",
       "      <td>0</td>\n",
       "      <td>1</td>\n",
       "      <td>0</td>\n",
       "      <td>0</td>\n",
       "    </tr>\n",
       "  </tbody>\n",
       "</table>\n",
       "<p>2053 rows × 20 columns</p>\n",
       "</div>"
      ],
      "text/plain": [
       "       SAT  HSGPA  Zip       dist  Zip_Count  Median Income  \\\n",
       "0     1060  3.300   89  16.519129         14          75000   \n",
       "1      950  3.330   89  16.519129         14          75000   \n",
       "2     1220  2.560   89  16.519129         14          75000   \n",
       "3     1280  3.929   89  16.519129         14          75000   \n",
       "4     1240  3.560   89  16.519129         14          75000   \n",
       "...    ...    ...  ...        ...        ...            ...   \n",
       "2048  1030  4.000  114  23.223581          3         134766   \n",
       "2049  1280  2.840  118  35.591392          1         184556   \n",
       "2050  1140  2.250  327  40.044172          1         201406   \n",
       "2051  1020  2.900  342  77.849439          1          85725   \n",
       "2052   910  2.690  205  33.824401          1         134375   \n",
       "\n",
       "      Scholarship amount  Completed  Gender_F  Gender_M  Major_COMMERCE  \\\n",
       "0                      0          1         1         0               1   \n",
       "1                      0          1         1         0               0   \n",
       "2                      0          1         0         1               0   \n",
       "3                   9159          1         1         0               0   \n",
       "4                   6187          0         1         0               0   \n",
       "...                  ...        ...       ...       ...             ...   \n",
       "2048                   0          1         0         1               1   \n",
       "2049                   0          0         0         1               1   \n",
       "2050                   0          1         1         0               0   \n",
       "2051                   0          0         0         1               1   \n",
       "2052                   0          1         0         1               0   \n",
       "\n",
       "      Major_HUMANITIES/ARTS  Major_STEM  Housing_Commuter  Housing_Resident  \\\n",
       "0                         0           0                 1                 0   \n",
       "1                         1           0                 0                 1   \n",
       "2                         0           1                 0                 1   \n",
       "3                         0           1                 0                 1   \n",
       "4                         1           0                 0                 1   \n",
       "...                     ...         ...               ...               ...   \n",
       "2048                      0           0                 0                 1   \n",
       "2049                      0           0                 0                 1   \n",
       "2050                      0           1                 0                 1   \n",
       "2051                      0           0                 0                 1   \n",
       "2052                      1           0                 0                 1   \n",
       "\n",
       "      SPSERV_ATH  SPSERV_EOF  SPSERV_FIS  SPSERV_HON  SPSERV_REG  \n",
       "0              0           0           0           0           1  \n",
       "1              0           0           1           0           0  \n",
       "2              0           0           0           0           1  \n",
       "3              0           0           0           0           1  \n",
       "4              0           0           0           0           1  \n",
       "...          ...         ...         ...         ...         ...  \n",
       "2048           0           0           0           0           1  \n",
       "2049           0           0           0           0           1  \n",
       "2050           0           0           0           0           1  \n",
       "2051           0           0           0           0           1  \n",
       "2052           0           0           1           0           0  \n",
       "\n",
       "[2053 rows x 20 columns]"
      ]
     },
     "execution_count": 44,
     "metadata": {},
     "output_type": "execute_result"
    }
   ],
   "source": [
    "df_en"
   ]
  },
  {
   "cell_type": "code",
   "execution_count": 45,
   "metadata": {
    "ExecuteTime": {
     "end_time": "2021-06-23T12:24:41.995561Z",
     "start_time": "2021-06-23T12:24:41.984559Z"
    }
   },
   "outputs": [],
   "source": [
    "# Set Predictor and response  \n",
    "y = df_en['Completed']\n",
    "X = df_en.drop('Completed', axis=1)\n",
    "        "
   ]
  },
  {
   "cell_type": "code",
   "execution_count": 46,
   "metadata": {
    "ExecuteTime": {
     "end_time": "2021-06-23T12:24:42.011556Z",
     "start_time": "2021-06-23T12:24:41.999554Z"
    }
   },
   "outputs": [],
   "source": [
    "#Create training/testing data with 30 % test data\n",
    "#X_train, X_test, y_train, y_test = train_test_split(X, y, test_size=.25, random_state=1, stratify=y)\n",
    "X_train, X_test, y_train, y_test = train_test_split(X, y, test_size=0.3, random_state=1)\n"
   ]
  },
  {
   "cell_type": "markdown",
   "metadata": {},
   "source": [
    "## Modelling"
   ]
  },
  {
   "cell_type": "markdown",
   "metadata": {},
   "source": [
    "### Vanilla DT model"
   ]
  },
  {
   "cell_type": "code",
   "execution_count": 47,
   "metadata": {
    "ExecuteTime": {
     "end_time": "2021-06-23T12:24:42.043539Z",
     "start_time": "2021-06-23T12:24:42.015549Z"
    }
   },
   "outputs": [],
   "source": [
    "DTC_model1 = DecisionTreeClassifier(random_state=42)\n"
   ]
  },
  {
   "cell_type": "code",
   "execution_count": 48,
   "metadata": {
    "ExecuteTime": {
     "end_time": "2021-06-23T12:24:42.091526Z",
     "start_time": "2021-06-23T12:24:42.055536Z"
    }
   },
   "outputs": [
    {
     "data": {
      "text/plain": [
       "''"
      ]
     },
     "execution_count": 48,
     "metadata": {},
     "output_type": "execute_result"
    }
   ],
   "source": [
    "DTC_model1.fit(X_train, y_train)\n",
    ";"
   ]
  },
  {
   "cell_type": "code",
   "execution_count": 49,
   "metadata": {
    "ExecuteTime": {
     "end_time": "2021-06-23T12:24:42.107521Z",
     "start_time": "2021-06-23T12:24:42.095524Z"
    }
   },
   "outputs": [],
   "source": [
    "y_test_pred = DTC_model1.predict(X_test)"
   ]
  },
  {
   "cell_type": "code",
   "execution_count": 50,
   "metadata": {
    "ExecuteTime": {
     "end_time": "2021-06-23T12:24:42.154505Z",
     "start_time": "2021-06-23T12:24:42.111518Z"
    }
   },
   "outputs": [
    {
     "name": "stdout",
     "output_type": "stream",
     "text": [
      "F1 Score: 0.8829702201516398\n",
      "Accuracy Score Test: 0.8798701298701299\n",
      "ROC_AUC Test: 0.7532467532467533\n"
     ]
    }
   ],
   "source": [
    "#Report performance\n",
    "get_metrics(y_test, y_test_pred)\n"
   ]
  },
  {
   "cell_type": "code",
   "execution_count": 51,
   "metadata": {
    "ExecuteTime": {
     "end_time": "2021-06-23T12:24:42.185494Z",
     "start_time": "2021-06-23T12:24:42.158502Z"
    }
   },
   "outputs": [
    {
     "name": "stdout",
     "output_type": "stream",
     "text": [
      "Feature ranking:\n",
      "1 SAT 0.21442193594644499\n",
      "2 Scholarship amount 0.18714307445903064\n",
      "3 Median Income 0.17662729315926007\n",
      "4 dist 0.09385720822622844\n",
      "5 Zip_Count 0.08501271173836272\n",
      "6 HSGPA 0.07502974410019489\n",
      "7 SPSERV_REG 0.07197163139894162\n",
      "8 Zip 0.06858803697991686\n",
      "9 Major_STEM 0.01632115882268165\n",
      "10 Gender_F 0.006549801678069973\n",
      "11 Gender_M 0.0031605201112010423\n",
      "12 Housing_Resident 0.0013168833796671012\n",
      "13 Major_HUMANITIES/ARTS 0.0\n",
      "14 SPSERV_HON 0.0\n",
      "15 Housing_Commuter 0.0\n",
      "16 SPSERV_ATH 0.0\n",
      "17 SPSERV_EOF 0.0\n",
      "18 SPSERV_FIS 0.0\n",
      "19 Major_COMMERCE 0.0\n"
     ]
    }
   ],
   "source": [
    "# Look at the feature contribution to our model.\n",
    "importances = DTC_model1.feature_importances_\n",
    "indices = np.argsort(importances)[::-1]\n",
    "drop_feature_list=[]\n",
    "# Print the feature ranking\n",
    "print(\"Feature ranking:\")\n",
    "for i in range(X_train.shape[1]):\n",
    "    print(i + 1, X_train.columns[indices[i]], importances[indices[i]])\n",
    "    if importances[indices[i]]< 0.01:\n",
    "        drop_feature_list.append(X_train.columns[indices[i]])#track features that contribute less than 1%"
   ]
  },
  {
   "cell_type": "code",
   "execution_count": 52,
   "metadata": {
    "ExecuteTime": {
     "end_time": "2021-06-23T12:24:42.201490Z",
     "start_time": "2021-06-23T12:24:42.189492Z"
    }
   },
   "outputs": [
    {
     "data": {
      "text/plain": [
       "0.21442193594644499"
      ]
     },
     "execution_count": 52,
     "metadata": {},
     "output_type": "execute_result"
    }
   ],
   "source": [
    "importances[indices[0]]"
   ]
  },
  {
   "cell_type": "code",
   "execution_count": 53,
   "metadata": {
    "ExecuteTime": {
     "end_time": "2021-06-23T12:24:42.753305Z",
     "start_time": "2021-06-23T12:24:42.205487Z"
    }
   },
   "outputs": [
    {
     "data": {
      "image/png": "[encoded data removed]",
      "text/plain": [
       "<Figure size 1440x720 with 1 Axes>"
      ]
     },
     "metadata": {
      "needs_background": "light"
     },
     "output_type": "display_data"
    }
   ],
   "source": [
    "# Plot the feature importances \n",
    "plt.figure(figsize=(20,10))\n",
    "plt.title(\"DecisionTree Feature importance\",size=20)\n",
    "plt.bar(range(X_train.shape[1]), importances[indices],color=\"b\", align=\"center\")\n",
    "plt.xticks(range(X_train.shape[1]), indices)\n",
    "plt.xlim([-1, X_train.shape[1]])\n",
    "plt.show()\n"
   ]
  },
  {
   "cell_type": "markdown",
   "metadata": {},
   "source": [
    "Seems the the top 5 (SAT,Scholarship amount,Median Income,Zip_Count,dist)contributing features account for more than 65% of the model predictions. Although we might have a class imbalance, especially considering our Precision is so high , we will generate some synthetic data to remedy this by oversampling the minority class.."
   ]
  },
  {
   "cell_type": "code",
   "execution_count": 54,
   "metadata": {
    "ExecuteTime": {
     "end_time": "2021-06-23T12:24:42.769301Z",
     "start_time": "2021-06-23T12:24:42.756305Z"
    }
   },
   "outputs": [
    {
     "name": "stdout",
     "output_type": "stream",
     "text": [
      "n=1795 HR: 1, (87.433%)\n",
      "n=258 HR: 0, (12.567%)\n"
     ]
    }
   ],
   "source": [
    "# summarize distribution\n",
    "counter = Counter(y)\n",
    "for j,k in counter.items():\n",
    "    per = k / len(y) * 100\n",
    "    print('n=%d HR: %s, (%.3f%%)' % ( k,j, per))\n",
    "# plot the distribution\n",
    "# pyplot.bar(counter.keys(), counter.values())\n",
    "# pyplot.show()"
   ]
  },
  {
   "cell_type": "markdown",
   "metadata": {
    "ExecuteTime": {
     "end_time": "2021-06-21T13:36:39.768629Z",
     "start_time": "2021-06-21T13:33:49.489Z"
    }
   },
   "source": [
    "### DT Model using Resampling"
   ]
  },
  {
   "cell_type": "code",
   "execution_count": 55,
   "metadata": {
    "ExecuteTime": {
     "end_time": "2021-06-23T12:24:42.831280Z",
     "start_time": "2021-06-23T12:24:42.773300Z"
    }
   },
   "outputs": [
    {
     "name": "stdout",
     "output_type": "stream",
     "text": [
      "n=1256 1, (50.000%)\n",
      "n=1256 0, (50.000%)\n"
     ]
    }
   ],
   "source": [
    "# oversampling minority class and undersampling majority class\n",
    "smote = SMOTE()\n",
    "X_train_resampled, y_train_resampled = smote.fit_sample(X_train, y_train) \n",
    "# summarize distribution\n",
    "counter = Counter(y_train_resampled)\n",
    "for j,k in counter.items():\n",
    "    per = k / len(y_train_resampled) * 100\n",
    "    print('n=%d %s, (%.3f%%)' % ( k,j, per))\n",
    "# plot the distribution\n",
    "# pyplot.bar(counter.keys(), counter.values())\n",
    "# pyplot.show()"
   ]
  },
  {
   "cell_type": "code",
   "execution_count": 56,
   "metadata": {
    "ExecuteTime": {
     "end_time": "2021-06-23T12:24:42.894260Z",
     "start_time": "2021-06-23T12:24:42.834280Z"
    }
   },
   "outputs": [
    {
     "name": "stdout",
     "output_type": "stream",
     "text": [
      "F1 Score: 0.8665094339622641\n",
      "Accuracy Score Test: 0.8603896103896104\n",
      "ROC_AUC Test: 0.7309833024118739\n"
     ]
    }
   ],
   "source": [
    "\n",
    "DTC_model2 = DecisionTreeClassifier(random_state=42)\n",
    "DTC_model2.fit(X_train_resampled, y_train_resampled)\n",
    "y_test_pred = DTC_model2.predict(X_test)\n",
    "#Report performance\n",
    "get_metrics(y_test, y_test_pred)\n"
   ]
  },
  {
   "cell_type": "markdown",
   "metadata": {},
   "source": [
    "The model accuracy scores are more or less the same , in fact its is slightly lower so class imbalance is not an issue. "
   ]
  },
  {
   "cell_type": "code",
   "execution_count": 57,
   "metadata": {
    "ExecuteTime": {
     "end_time": "2021-06-23T12:24:45.549543Z",
     "start_time": "2021-06-23T12:24:42.897258Z"
    }
   },
   "outputs": [
    {
     "name": "stdout",
     "output_type": "stream",
     "text": [
      "Mean f1: 0.929 (0.010)\n"
     ]
    }
   ],
   "source": [
    "#We will use three repeats of 10-fold cross-validation,\n",
    "#4-fold cross-validation is applied 5 times fitting and evaluating 20 models on the dataset.\n",
    "DTC_model3 = DecisionTreeClassifier(random_state=42)\n",
    "cv = RepeatedStratifiedKFold(n_splits=4, n_repeats=5, random_state=42)\n",
    "scores = cross_val_score(DTC_model3,X_train_resampled, y_train_resampled, scoring='f1', cv=cv, n_jobs=-1)\n",
    "#Check the Accuray score of the 30 models \n",
    "print('Mean f1: %.3f (%.3f)' % (mean(scores), std(scores)))"
   ]
  },
  {
   "cell_type": "code",
   "execution_count": 58,
   "metadata": {
    "ExecuteTime": {
     "end_time": "2021-06-23T12:24:46.285255Z",
     "start_time": "2021-06-23T12:24:45.551543Z"
    }
   },
   "outputs": [
    {
     "name": "stdout",
     "output_type": "stream",
     "text": [
      "Mean f1: 0.936 (0.011)\n"
     ]
    }
   ],
   "source": [
    "DTC_model4 = DecisionTreeClassifier(random_state=42)\n",
    "cv = RepeatedStratifiedKFold(n_splits=4, n_repeats=5, random_state=42)\n",
    "scores = cross_val_score(DTC_model4,X_train, y_train, scoring='f1', cv=cv, n_jobs=-1)\n",
    "#Check the Accuray score of the 30 models \n",
    "print('Mean f1: %.3f (%.3f)' % (mean(scores), std(scores)))"
   ]
  },
  {
   "cell_type": "markdown",
   "metadata": {},
   "source": [
    "The average f1 from resampling is higher then our vanilla model but resampling using orignial data is higher than resampled data. Higher accuracy with resampled data implies our model will perform better with new data."
   ]
  },
  {
   "cell_type": "markdown",
   "metadata": {},
   "source": [
    "### DT Model using recursive feature elimination with synthetic data"
   ]
  },
  {
   "cell_type": "code",
   "execution_count": 59,
   "metadata": {
    "ExecuteTime": {
     "end_time": "2021-06-23T12:24:47.815280Z",
     "start_time": "2021-06-23T12:24:46.287251Z"
    }
   },
   "outputs": [
    {
     "data": {
      "text/plain": [
       "''"
      ]
     },
     "execution_count": 59,
     "metadata": {},
     "output_type": "execute_result"
    }
   ],
   "source": [
    "# Using RFECV look at the cross-validated score performance for the training data\n",
    "DTC_model5 = DecisionTreeClassifier(random_state=42)\n",
    "# The \"accuracy\" scoring translates to correct classifications in training data folds\n",
    "rfecv = RFECV(estimator=DTC_model5, step=1, cv=StratifiedKFold(n_splits=5),scoring='f1')\n",
    "rfecv.fit(X_train_resampled, y_train_resampled)\n",
    ";"
   ]
  },
  {
   "cell_type": "code",
   "execution_count": 60,
   "metadata": {
    "ExecuteTime": {
     "end_time": "2021-06-23T12:24:48.149169Z",
     "start_time": "2021-06-23T12:24:47.819278Z"
    }
   },
   "outputs": [
    {
     "data": {
      "image/png": "[encoded data removed]",
      "text/plain": [
       "<Figure size 432x288 with 1 Axes>"
      ]
     },
     "metadata": {
      "needs_background": "light"
     },
     "output_type": "display_data"
    }
   ],
   "source": [
    "# Plot number of features VS. cross-validation scores\n",
    "plt.figure()\n",
    "plt.xlabel(\"Number of features selected with smote resampled training data\")\n",
    "plt.ylabel(\"Cross validation score\")\n",
    "plt.plot(range(1, len(rfecv.grid_scores_) + 1), rfecv.grid_scores_)\n",
    "plt.show()"
   ]
  },
  {
   "cell_type": "code",
   "execution_count": 61,
   "metadata": {
    "ExecuteTime": {
     "end_time": "2021-06-23T12:24:48.180161Z",
     "start_time": "2021-06-23T12:24:48.154169Z"
    }
   },
   "outputs": [
    {
     "name": "stdout",
     "output_type": "stream",
     "text": [
      "Optimal number of features : 11\n",
      "Column 0,Feature to keep: SAT, Selected True, Rank: 1.000\n",
      "Column 1,Feature to keep: HSGPA, Selected True, Rank: 1.000\n",
      "Column 2,Feature to keep: Zip, Selected True, Rank: 1.000\n",
      "Column 3,Feature to keep: dist, Selected True, Rank: 1.000\n",
      "Column 4,Feature to keep: Zip_Count, Selected True, Rank: 1.000\n",
      "Column 5,Feature to keep: Median Income, Selected True, Rank: 1.000\n",
      "Column 6,Feature to keep: Scholarship amount, Selected True, Rank: 1.000\n",
      "Column 7,Feature to keep: Gender_F, Selected True, Rank: 1.000\n",
      "Column 9,Feature to keep: Major_COMMERCE, Selected True, Rank: 1.000\n",
      "Column 13,Feature to keep: Housing_Resident, Selected True, Rank: 1.000\n",
      "Column 18,Feature to keep: SPSERV_REG, Selected True, Rank: 1.000\n"
     ]
    }
   ],
   "source": [
    "# features to keep /remove based on training data and RFECV\n",
    "columns_keep=[]\n",
    "print(\"Optimal number of features : %d\" % rfecv.n_features_)\n",
    "for i in range(X_train.shape[1]):\n",
    "    if rfecv.support_[i] ==True:\n",
    "        print('Column %.f,Feature to keep: %s, Selected %s, Rank: %.3f' % (i,X_train.columns[i], rfecv.support_[i], rfecv.ranking_[i]))\n",
    "        columns_keep.append(i)"
   ]
  },
  {
   "cell_type": "code",
   "execution_count": 62,
   "metadata": {
    "ExecuteTime": {
     "end_time": "2021-06-23T12:24:48.212150Z",
     "start_time": "2021-06-23T12:24:48.185157Z"
    }
   },
   "outputs": [],
   "source": [
    "y_test_pred=rfecv.predict(X_test)"
   ]
  },
  {
   "cell_type": "code",
   "execution_count": 63,
   "metadata": {
    "ExecuteTime": {
     "end_time": "2021-06-23T12:24:48.243138Z",
     "start_time": "2021-06-23T12:24:48.216146Z"
    }
   },
   "outputs": [
    {
     "name": "stdout",
     "output_type": "stream",
     "text": [
      "F1 Score: 0.8700109291356964\n",
      "Accuracy Score Test: 0.862012987012987\n",
      "ROC_AUC Test: 0.7541743970315399\n"
     ]
    }
   ],
   "source": [
    "#Report performance\n",
    "get_metrics(y_test, y_test_pred)\n"
   ]
  },
  {
   "cell_type": "markdown",
   "metadata": {},
   "source": [
    "F1 score is more or less the same so we can conclude the model is able to perform more or less the same despite the class , imabalance. We can see that the cv score for feature importance is more or less constant after 11 features.  "
   ]
  },
  {
   "cell_type": "markdown",
   "metadata": {
    "ExecuteTime": {
     "end_time": "2021-06-21T13:36:39.773627Z",
     "start_time": "2021-06-21T13:35:56.808Z"
    }
   },
   "source": [
    "### DT Model using recursive feature elimination with original data"
   ]
  },
  {
   "cell_type": "code",
   "execution_count": 64,
   "metadata": {
    "ExecuteTime": {
     "end_time": "2021-06-23T12:24:49.231255Z",
     "start_time": "2021-06-23T12:24:48.247136Z"
    }
   },
   "outputs": [
    {
     "data": {
      "text/plain": [
       "''"
      ]
     },
     "execution_count": 64,
     "metadata": {},
     "output_type": "execute_result"
    }
   ],
   "source": [
    "# Using RFECV look at the cross-validated score performance for the training data\n",
    "DTC_model6 = DecisionTreeClassifier(random_state=42)\n",
    "# The \"accuracy\" scoring translates to correct classifications in training data folds\n",
    "rfecv = RFECV(estimator=DTC_model6, step=1, cv=StratifiedKFold(n_splits=5),scoring='f1')\n",
    "rfecv.fit(X_train, y_train)\n",
    ";"
   ]
  },
  {
   "cell_type": "code",
   "execution_count": 65,
   "metadata": {
    "ExecuteTime": {
     "end_time": "2021-06-23T12:24:49.515215Z",
     "start_time": "2021-06-23T12:24:49.234253Z"
    }
   },
   "outputs": [
    {
     "data": {
      "image/png": "[encoded data removed]",
      "text/plain": [
       "<Figure size 432x288 with 1 Axes>"
      ]
     },
     "metadata": {
      "needs_background": "light"
     },
     "output_type": "display_data"
    }
   ],
   "source": [
    "# Plot number of features VS. cross-validation scores\n",
    "plt.figure()\n",
    "plt.xlabel(\"Number of features selected with smote resampled training data\")\n",
    "plt.ylabel(\"Cross validation score\")\n",
    "plt.plot(range(1, len(rfecv.grid_scores_) + 1), rfecv.grid_scores_)\n",
    "plt.show()"
   ]
  },
  {
   "cell_type": "code",
   "execution_count": 66,
   "metadata": {
    "ExecuteTime": {
     "end_time": "2021-06-23T12:24:49.530391Z",
     "start_time": "2021-06-23T12:24:49.518392Z"
    }
   },
   "outputs": [
    {
     "name": "stdout",
     "output_type": "stream",
     "text": [
      "Optimal number of features : 17\n",
      "Column 0,Feature to keep: SAT, Selected True, Rank: 1.000\n",
      "Column 1,Feature to keep: HSGPA, Selected True, Rank: 1.000\n",
      "Column 2,Feature to keep: Zip, Selected True, Rank: 1.000\n",
      "Column 3,Feature to keep: dist, Selected True, Rank: 1.000\n",
      "Column 4,Feature to keep: Zip_Count, Selected True, Rank: 1.000\n",
      "Column 5,Feature to keep: Median Income, Selected True, Rank: 1.000\n",
      "Column 6,Feature to keep: Scholarship amount, Selected True, Rank: 1.000\n",
      "Column 7,Feature to keep: Gender_F, Selected True, Rank: 1.000\n",
      "Column 8,Feature to keep: Gender_M, Selected True, Rank: 1.000\n",
      "Column 10,Feature to keep: Major_HUMANITIES/ARTS, Selected True, Rank: 1.000\n",
      "Column 11,Feature to keep: Major_STEM, Selected True, Rank: 1.000\n",
      "Column 12,Feature to keep: Housing_Commuter, Selected True, Rank: 1.000\n",
      "Column 13,Feature to keep: Housing_Resident, Selected True, Rank: 1.000\n",
      "Column 14,Feature to keep: SPSERV_ATH, Selected True, Rank: 1.000\n",
      "Column 15,Feature to keep: SPSERV_EOF, Selected True, Rank: 1.000\n",
      "Column 17,Feature to keep: SPSERV_HON, Selected True, Rank: 1.000\n",
      "Column 18,Feature to keep: SPSERV_REG, Selected True, Rank: 1.000\n"
     ]
    }
   ],
   "source": [
    "# features to keep /remove based on training data and RFECV\n",
    "columns_keep=[]\n",
    "print(\"Optimal number of features : %d\" % rfecv.n_features_)\n",
    "for i in range(X_train.shape[1]):\n",
    "    if rfecv.support_[i] ==True:\n",
    "        print('Column %.f,Feature to keep: %s, Selected %s, Rank: %.3f' % (i,X_train.columns[i], rfecv.support_[i], rfecv.ranking_[i]))\n",
    "        columns_keep.append(i)"
   ]
  },
  {
   "cell_type": "code",
   "execution_count": 67,
   "metadata": {
    "ExecuteTime": {
     "end_time": "2021-06-23T12:24:49.562376Z",
     "start_time": "2021-06-23T12:24:49.533386Z"
    }
   },
   "outputs": [],
   "source": [
    "y_test_pred=rfecv.predict(X_test)"
   ]
  },
  {
   "cell_type": "code",
   "execution_count": 68,
   "metadata": {
    "ExecuteTime": {
     "end_time": "2021-06-23T12:24:49.610361Z",
     "start_time": "2021-06-23T12:24:49.584373Z"
    }
   },
   "outputs": [
    {
     "name": "stdout",
     "output_type": "stream",
     "text": [
      "F1 Score: 0.8822425571392427\n",
      "Accuracy Score Test: 0.8782467532467533\n",
      "ROC_AUC Test: 0.7578849721706864\n"
     ]
    }
   ],
   "source": [
    "#Report performance\n",
    "get_metrics(y_test, y_test_pred)\n"
   ]
  },
  {
   "cell_type": "markdown",
   "metadata": {},
   "source": [
    "F1 and accuracy are more or less the same but ROC_AUC went up slightly."
   ]
  },
  {
   "cell_type": "markdown",
   "metadata": {},
   "source": [
    "Decisiton tree model 5 which uses smote data with recursive feature elimination and repeated cross validation performed the best with a f1 of close to 90% and roc_auc of nearly 80%"
   ]
  },
  {
   "cell_type": "markdown",
   "metadata": {},
   "source": [
    "Roc_auc is about the same at DTC model5, F1 is lower and accuracy is higher which suggests the DTC model is less sensitive "
   ]
  },
  {
   "cell_type": "markdown",
   "metadata": {},
   "source": [
    "### Hyperparameter Tuning"
   ]
  },
  {
   "cell_type": "code",
   "execution_count": 74,
   "metadata": {
    "ExecuteTime": {
     "end_time": "2021-06-23T12:25:14.438994Z",
     "start_time": "2021-06-23T12:24:50.009230Z"
    }
   },
   "outputs": [
    {
     "data": {
      "text/plain": [
       "''"
      ]
     },
     "execution_count": 74,
     "metadata": {},
     "output_type": "execute_result"
    }
   ],
   "source": [
    "# criterion : \"gini\", \"entropy\"\n",
    "# max_depth : The maximum depth of the tree.\n",
    "# min_samples_split : The minimum number of samples required to split an internal node:\n",
    "# min_samples_leaf : The minimum number of samples required to be at a leaf node. \n",
    "parameters = {\"criterion\": [\"gini\", \"entropy\"],\n",
    "              \"max_depth\": [2,4,6,8,10,12],\n",
    "              \"splitter\":[\"best\",\"random\"],\n",
    "             \"max_features\":list(range(0,23)),\n",
    "             \"class_weight\":[\"balanced\", \"None\"]}\n",
    "DTC_model_hp =DecisionTreeClassifier()\n",
    "grid_search = GridSearchCV(DTC_model_hp, parameters, n_jobs=-1, cv=cv, scoring='f1')\n",
    "grid_search.fit(X_train_resampled, y_train_resampled)\n",
    ";"
   ]
  },
  {
   "cell_type": "code",
   "execution_count": 75,
   "metadata": {
    "ExecuteTime": {
     "end_time": "2021-06-23T12:25:14.454989Z",
     "start_time": "2021-06-23T12:25:14.440994Z"
    }
   },
   "outputs": [
    {
     "name": "stdout",
     "output_type": "stream",
     "text": [
      "{'class_weight': 'balanced', 'criterion': 'gini', 'max_depth': 10, 'max_features': 19, 'splitter': 'best'}\n",
      "0.9324882388090625\n"
     ]
    }
   ],
   "source": [
    "print(grid_search.best_params_)\n",
    "print(grid_search.best_score_)"
   ]
  },
  {
   "cell_type": "code",
   "execution_count": 76,
   "metadata": {
    "ExecuteTime": {
     "end_time": "2021-06-23T12:25:14.470982Z",
     "start_time": "2021-06-23T12:25:14.456988Z"
    }
   },
   "outputs": [],
   "source": [
    "y_test_pred = grid_search.best_estimator_.predict(X_test)\n"
   ]
  },
  {
   "cell_type": "code",
   "execution_count": 147,
   "metadata": {
    "ExecuteTime": {
     "end_time": "2021-06-23T13:42:26.199136Z",
     "start_time": "2021-06-23T13:42:25.802413Z"
    }
   },
   "outputs": [
    {
     "data": {
      "image/png": "[encoded data removed]",
      "text/plain": [
       "<Figure size 432x288 with 2 Axes>"
      ]
     },
     "metadata": {
      "needs_background": "light"
     },
     "output_type": "display_data"
    }
   ],
   "source": [
    "disp = plot_confusion_matrix(grid_search, X_test, y_test,\n",
    "                                 cmap=plt.cm.Blues,normalize = \"true\")\n",
    "title ='Actual vs predicted';\n",
    "disp.ax_.set_title(title)\n",
    "plt.show()"
   ]
  },
  {
   "cell_type": "markdown",
   "metadata": {},
   "source": [
    "### Bagging classifier"
   ]
  },
  {
   "cell_type": "code",
   "execution_count": 69,
   "metadata": {
    "ExecuteTime": {
     "end_time": "2021-06-23T12:24:49.642352Z",
     "start_time": "2021-06-23T12:24:49.624357Z"
    }
   },
   "outputs": [],
   "source": [
    "# Instantiate a BaggingClassifier\n",
    "bagged_tree =  BaggingClassifier(DecisionTreeClassifier(criterion='entropy', max_depth=12), \n",
    "                                 n_estimators=20)"
   ]
  },
  {
   "cell_type": "code",
   "execution_count": 70,
   "metadata": {
    "ExecuteTime": {
     "end_time": "2021-06-23T12:24:49.910266Z",
     "start_time": "2021-06-23T12:24:49.647350Z"
    }
   },
   "outputs": [
    {
     "data": {
      "text/plain": [
       "''"
      ]
     },
     "execution_count": 70,
     "metadata": {},
     "output_type": "execute_result"
    }
   ],
   "source": [
    "bagged_tree.fit(X_train, y_train)\n",
    ";"
   ]
  },
  {
   "cell_type": "code",
   "execution_count": 71,
   "metadata": {
    "ExecuteTime": {
     "end_time": "2021-06-23T12:24:49.941257Z",
     "start_time": "2021-06-23T12:24:49.913262Z"
    }
   },
   "outputs": [],
   "source": [
    "# Testing accuracy score\n",
    "y_test_pred = bagged_tree.predict(X_test)"
   ]
  },
  {
   "cell_type": "code",
   "execution_count": 72,
   "metadata": {
    "ExecuteTime": {
     "end_time": "2021-06-23T12:24:49.973242Z",
     "start_time": "2021-06-23T12:24:49.945251Z"
    }
   },
   "outputs": [
    {
     "name": "stdout",
     "output_type": "stream",
     "text": [
      "F1 Score: 0.8940138604059119\n",
      "Accuracy Score Test: 0.8928571428571429\n",
      "ROC_AUC Test: 0.7662337662337662\n"
     ]
    }
   ],
   "source": [
    "#Report performance\n",
    "get_metrics(y_test, y_test_pred)\n"
   ]
  },
  {
   "cell_type": "markdown",
   "metadata": {},
   "source": [
    "### Random Forest classifier"
   ]
  },
  {
   "cell_type": "markdown",
   "metadata": {},
   "source": [
    "#### Vanilla model"
   ]
  },
  {
   "cell_type": "code",
   "execution_count": 77,
   "metadata": {
    "ExecuteTime": {
     "end_time": "2021-06-23T12:25:14.909838Z",
     "start_time": "2021-06-23T12:25:14.472982Z"
    }
   },
   "outputs": [
    {
     "data": {
      "text/plain": [
       "''"
      ]
     },
     "execution_count": 77,
     "metadata": {},
     "output_type": "execute_result"
    }
   ],
   "source": [
    "# Instantiate and fit a RandomForestClassifier\n",
    "forest = RandomForestClassifier(n_estimators=100, max_depth= 12)\n",
    "forest.fit(X_train_resampled, y_train_resampled)\n",
    ";"
   ]
  },
  {
   "cell_type": "code",
   "execution_count": 78,
   "metadata": {
    "ExecuteTime": {
     "end_time": "2021-06-23T12:25:14.941828Z",
     "start_time": "2021-06-23T12:25:14.911838Z"
    }
   },
   "outputs": [],
   "source": [
    "y_test_pred = forest.predict(X_test)"
   ]
  },
  {
   "cell_type": "code",
   "execution_count": 79,
   "metadata": {
    "ExecuteTime": {
     "end_time": "2021-06-23T12:25:14.957823Z",
     "start_time": "2021-06-23T12:25:14.942828Z"
    }
   },
   "outputs": [
    {
     "name": "stdout",
     "output_type": "stream",
     "text": [
      "F1 Score: 0.8773088945723216\n",
      "Accuracy Score Test: 0.875\n",
      "ROC_AUC Test: 0.7337662337662337\n"
     ]
    }
   ],
   "source": [
    "#Report performance\n",
    "get_metrics(y_test, y_test_pred)\n"
   ]
  },
  {
   "cell_type": "markdown",
   "metadata": {},
   "source": [
    "#### RF using cross validation and recursive feature elimination with original data "
   ]
  },
  {
   "cell_type": "code",
   "execution_count": 80,
   "metadata": {
    "ExecuteTime": {
     "end_time": "2021-06-23T12:26:02.742743Z",
     "start_time": "2021-06-23T12:25:14.959822Z"
    }
   },
   "outputs": [
    {
     "data": {
      "text/plain": [
       "''"
      ]
     },
     "execution_count": 80,
     "metadata": {},
     "output_type": "execute_result"
    }
   ],
   "source": [
    "# Using RFECV look at the cross-validated score performance for the training data\n",
    "# The \"accuracy\" scoring translates to correct classifications in training data folds\n",
    "rfecv = RFECV(estimator=forest, step=1, cv=StratifiedKFold(n_splits=5),scoring='f1')\n",
    "rfecv.fit(X_train, y_train)\n",
    ";"
   ]
  },
  {
   "cell_type": "code",
   "execution_count": 81,
   "metadata": {
    "ExecuteTime": {
     "end_time": "2021-06-23T12:26:02.773733Z",
     "start_time": "2021-06-23T12:26:02.746738Z"
    }
   },
   "outputs": [
    {
     "name": "stdout",
     "output_type": "stream",
     "text": [
      "Optimal number of features : 12\n",
      "Column 0,Feature to keep: SAT, Selected True, Rank: 1.000\n",
      "Column 1,Feature to keep: HSGPA, Selected True, Rank: 1.000\n",
      "Column 2,Feature to keep: Zip, Selected True, Rank: 1.000\n",
      "Column 3,Feature to keep: dist, Selected True, Rank: 1.000\n",
      "Column 4,Feature to keep: Zip_Count, Selected True, Rank: 1.000\n",
      "Column 5,Feature to keep: Median Income, Selected True, Rank: 1.000\n",
      "Column 6,Feature to keep: Scholarship amount, Selected True, Rank: 1.000\n",
      "Column 7,Feature to keep: Gender_F, Selected True, Rank: 1.000\n",
      "Column 8,Feature to keep: Gender_M, Selected True, Rank: 1.000\n",
      "Column 9,Feature to keep: Major_COMMERCE, Selected True, Rank: 1.000\n",
      "Column 11,Feature to keep: Major_STEM, Selected True, Rank: 1.000\n",
      "Column 18,Feature to keep: SPSERV_REG, Selected True, Rank: 1.000\n"
     ]
    }
   ],
   "source": [
    "# features to keep /remove based on training data and RFECV\n",
    "print(\"Optimal number of features : %d\" % rfecv.n_features_)\n",
    "for i in range(X_train.shape[1]):\n",
    "    if rfecv.support_[i] ==True:\n",
    "        print('Column %.f,Feature to keep: %s, Selected %s, Rank: %.3f' % (i,X_train.columns[i], rfecv.support_[i], rfecv.ranking_[i]))\n",
    "        "
   ]
  },
  {
   "cell_type": "code",
   "execution_count": 82,
   "metadata": {
    "ExecuteTime": {
     "end_time": "2021-06-23T12:26:02.852707Z",
     "start_time": "2021-06-23T12:26:02.777728Z"
    }
   },
   "outputs": [],
   "source": [
    "y_test_pred=rfecv.predict(X_test)"
   ]
  },
  {
   "cell_type": "code",
   "execution_count": 83,
   "metadata": {
    "ExecuteTime": {
     "end_time": "2021-06-23T12:26:02.883692Z",
     "start_time": "2021-06-23T12:26:02.856701Z"
    }
   },
   "outputs": [
    {
     "name": "stdout",
     "output_type": "stream",
     "text": [
      "F1 Score: 0.8748778876496096\n",
      "Accuracy Score Test: 0.8847402597402597\n",
      "ROC_AUC Test: 0.6669758812615956\n"
     ]
    }
   ],
   "source": [
    "#Report performance\n",
    "get_metrics(y_test, y_test_pred)\n"
   ]
  },
  {
   "cell_type": "markdown",
   "metadata": {},
   "source": [
    "Although we dont have too many features i would like to see if we can model with less features and comparable accuracy"
   ]
  },
  {
   "cell_type": "markdown",
   "metadata": {
    "ExecuteTime": {
     "end_time": "2021-06-20T18:33:31.642013Z",
     "start_time": "2021-06-20T18:33:31.636011Z"
    }
   },
   "source": [
    "#### RF using cross validation and recursive feature elimination with smote data "
   ]
  },
  {
   "cell_type": "code",
   "execution_count": 84,
   "metadata": {
    "ExecuteTime": {
     "end_time": "2021-06-23T12:27:07.920562Z",
     "start_time": "2021-06-23T12:26:02.889690Z"
    }
   },
   "outputs": [
    {
     "data": {
      "text/plain": [
       "''"
      ]
     },
     "execution_count": 84,
     "metadata": {},
     "output_type": "execute_result"
    }
   ],
   "source": [
    "# Using RFECV look at the cross-validated score performance for the training data\n",
    "# The \"accuracy\" scoring translates to correct classifications in training data folds\n",
    "rfecv = RFECV(estimator=forest, step=1, cv=StratifiedKFold(n_splits=5),scoring='f1')\n",
    "rfecv.fit(X_train_resampled, y_train_resampled)\n",
    ";"
   ]
  },
  {
   "cell_type": "code",
   "execution_count": 85,
   "metadata": {
    "ExecuteTime": {
     "end_time": "2021-06-23T12:27:07.945549Z",
     "start_time": "2021-06-23T12:27:07.923558Z"
    }
   },
   "outputs": [
    {
     "name": "stdout",
     "output_type": "stream",
     "text": [
      "Optimal number of features : 9\n",
      "Column 0,Feature to keep: SAT, Selected True, Rank: 1.000\n",
      "Column 3,Feature to keep: dist, Selected True, Rank: 1.000\n",
      "Column 4,Feature to keep: Zip_Count, Selected True, Rank: 1.000\n",
      "Column 5,Feature to keep: Median Income, Selected True, Rank: 1.000\n",
      "Column 6,Feature to keep: Scholarship amount, Selected True, Rank: 1.000\n",
      "Column 7,Feature to keep: Gender_F, Selected True, Rank: 1.000\n",
      "Column 9,Feature to keep: Major_COMMERCE, Selected True, Rank: 1.000\n",
      "Column 11,Feature to keep: Major_STEM, Selected True, Rank: 1.000\n",
      "Column 18,Feature to keep: SPSERV_REG, Selected True, Rank: 1.000\n"
     ]
    }
   ],
   "source": [
    "# features to keep /remove based on training data and RFECV\n",
    "print(\"Optimal number of features : %d\" % rfecv.n_features_)\n",
    "for i in range(X_train.shape[1]):\n",
    "    if rfecv.support_[i] ==True:\n",
    "        print('Column %.f,Feature to keep: %s, Selected %s, Rank: %.3f' % (i,X_train.columns[i], rfecv.support_[i], rfecv.ranking_[i]))\n",
    "        "
   ]
  },
  {
   "cell_type": "code",
   "execution_count": 86,
   "metadata": {
    "ExecuteTime": {
     "end_time": "2021-06-23T12:27:08.016526Z",
     "start_time": "2021-06-23T12:27:07.948549Z"
    }
   },
   "outputs": [],
   "source": [
    "y_test_pred=rfecv.predict(X_test)"
   ]
  },
  {
   "cell_type": "code",
   "execution_count": 87,
   "metadata": {
    "ExecuteTime": {
     "end_time": "2021-06-23T12:27:08.047516Z",
     "start_time": "2021-06-23T12:27:08.019526Z"
    }
   },
   "outputs": [
    {
     "name": "stdout",
     "output_type": "stream",
     "text": [
      "F1 Score: 0.899328355357601\n",
      "Accuracy Score Test: 0.8944805194805194\n",
      "ROC_AUC Test: 0.8116883116883117\n"
     ]
    }
   ],
   "source": [
    "#Report performance\n",
    "get_metrics(y_test, y_test_pred)\n"
   ]
  },
  {
   "cell_type": "code",
   "execution_count": 139,
   "metadata": {
    "ExecuteTime": {
     "end_time": "2021-06-23T13:15:14.594764Z",
     "start_time": "2021-06-23T13:15:14.135667Z"
    }
   },
   "outputs": [
    {
     "data": {
      "image/png": "[encoded data removed]",
      "text/plain": [
       "<Figure size 432x288 with 2 Axes>"
      ]
     },
     "metadata": {
      "needs_background": "light"
     },
     "output_type": "display_data"
    }
   ],
   "source": [
    "# plot confusion Matrix\n",
    "disp = plot_confusion_matrix(forest, X_test, y_test,normalize='true')\n",
    "title ='Actual vs predicted'\n",
    "disp.ax_.set_title(title)\n",
    "disp.ax_.set_title(title)\n",
    "# print(title)\n",
    "# print(disp.confusion_matrix)\n",
    "plt.show()"
   ]
  },
  {
   "cell_type": "markdown",
   "metadata": {},
   "source": [
    "## Conclusion and Future Work:"
   ]
  },
  {
   "cell_type": "markdown",
   "metadata": {
    "ExecuteTime": {
     "end_time": "2021-06-21T14:03:58.118964Z",
     "start_time": "2021-06-21T14:03:58.110968Z"
    }
   },
   "source": [
    " According to our analysis an ideal applicant would have a SAT score of around 1100 and lives within 21 miles of the campus. Applicants from Zip codes with a median household income of 98,888 have high completion rates. A student in any of the Special serv programs has higher completion rate than a regular student. Commerce majors have higher completion rates than any other major category. Female students have a slighlt higher completion rate than their male counterparts. Our model is able to identify students who are likely to complete with a 90% accuracy.\n"
   ]
  },
  {
   "cell_type": "markdown",
   "metadata": {},
   "source": [
    " For Future work ,We can use student highschool course work /grades to assess students prepradness for college which directly impacts completion rate.I would like to use Student's college GPA on a semester basis with semesters after which a student drops out to determine drop out risk rates.I would also like to identify key zipcodes to recruit students "
   ]
  },
  {
   "cell_type": "code",
   "execution_count": null,
   "metadata": {},
   "outputs": [],
   "source": []
  }
 ],
 "metadata": {
  "kernelspec": {
   "display_name": "Python [conda env:learn-env] *",
   "language": "python",
   "name": "conda-env-learn-env-py"
  },
  "language_info": {
   "codemirror_mode": {
    "name": "ipython",
    "version": 3
   },
   "file_extension": ".py",
   "mimetype": "text/x-python",
   "name": "python",
   "nbconvert_exporter": "python",
   "pygments_lexer": "ipython3",
   "version": "3.6.12"
  },
  "toc": {
   "base_numbering": 1,
   "nav_menu": {},
   "number_sections": true,
   "sideBar": true,
   "skip_h1_title": false,
   "title_cell": "Table of Contents",
   "title_sidebar": "Contents",
   "toc_cell": false,
   "toc_position": {
    "height": "calc(100% - 180px)",
    "left": "10px",
    "top": "150px",
    "width": "426.66px"
   },
   "toc_section_display": true,
   "toc_window_display": true
  },
  "varInspector": {
   "cols": {
    "lenName": 16,
    "lenType": 16,
    "lenVar": 40
   },
   "kernels_config": {
    "python": {
     "delete_cmd_postfix": "",
     "delete_cmd_prefix": "del ",
     "library": "var_list.py",
     "varRefreshCmd": "print(var_dic_list())"
    },
    "r": {
     "delete_cmd_postfix": ") ",
     "delete_cmd_prefix": "rm(",
     "library": "var_list.r",
     "varRefreshCmd": "cat(var_dic_list()) "
    }
   },
   "types_to_exclude": [
    "module",
    "function",
    "builtin_function_or_method",
    "instance",
    "_Feature"
   ],
   "window_display": false
  }
 },
 "nbformat": 4,
 "nbformat_minor": 4
}
